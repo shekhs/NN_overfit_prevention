{
  "nbformat": 4,
  "nbformat_minor": 0,
  "metadata": {
    "colab": {
      "name": "sonar data_NeuralNetwork.ipynb",
      "provenance": [],
      "authorship_tag": "ABX9TyMztB0rgRTbwU9W5LdJa/KA",
      "include_colab_link": true
    },
    "kernelspec": {
      "name": "python3",
      "display_name": "Python 3"
    },
    "language_info": {
      "name": "python"
    }
  },
  "cells": [
    {
      "cell_type": "markdown",
      "metadata": {
        "id": "view-in-github",
        "colab_type": "text"
      },
      "source": [
        "<a href=\"https://colab.research.google.com/github/shekhs/NN_overfit_prevention/blob/main/sonar_data_NeuralNetwork.ipynb\" target=\"_parent\"><img src=\"https://colab.research.google.com/assets/colab-badge.svg\" alt=\"Open In Colab\"/></a>"
      ]
    },
    {
      "cell_type": "code",
      "execution_count": 1,
      "metadata": {
        "id": "4GybEyfpOSWu"
      },
      "outputs": [],
      "source": [
        "import pandas as pd\n",
        "import numpy as np"
      ]
    },
    {
      "cell_type": "markdown",
      "source": [
        "Handling overfitting in deep neural **network**"
      ],
      "metadata": {
        "id": "qPUWwG7ZPBk5"
      }
    },
    {
      "cell_type": "code",
      "source": [
        "df = pd.read_csv(\"sonar.csv\",header=None,skiprows=1)\n",
        "df.sample(5)"
      ],
      "metadata": {
        "colab": {
          "base_uri": "https://localhost:8080/",
          "height": 236
        },
        "id": "r7QnEbtIObGW",
        "outputId": "e35d6efd-a835-4a8d-da97-9107b7f0c264"
      },
      "execution_count": 2,
      "outputs": [
        {
          "output_type": "execute_result",
          "data": {
            "text/plain": [
              "         0       1       2       3       4       5       6       7       8   \\\n",
              "64   0.0071  0.0103  0.0135  0.0494  0.0253  0.0806  0.0701  0.0738  0.0117   \n",
              "94   0.0025  0.0309  0.0171  0.0228  0.0434  0.1224  0.1947  0.1661  0.1368   \n",
              "50   0.0353  0.0713  0.0326  0.0272  0.0370  0.0792  0.1083  0.0687  0.0298   \n",
              "87   0.0856  0.0454  0.0382  0.0203  0.0385  0.0534  0.2140  0.3110  0.2837   \n",
              "125  0.0228  0.0853  0.1000  0.0428  0.1117  0.1651  0.1597  0.2116  0.3295   \n",
              "\n",
              "         9   ...      51      52      53      54      55      56      57  \\\n",
              "64   0.0898  ...  0.0043  0.0048  0.0076  0.0124  0.0105  0.0054  0.0032   \n",
              "94   0.1430  ...  0.0149  0.0077  0.0036  0.0114  0.0085  0.0101  0.0016   \n",
              "50   0.0880  ...  0.0163  0.0242  0.0043  0.0202  0.0108  0.0037  0.0096   \n",
              "87   0.2751  ...  0.0172  0.0138  0.0079  0.0037  0.0051  0.0258  0.0102   \n",
              "125  0.3517  ...  0.0172  0.0191  0.0260  0.0140  0.0125  0.0116  0.0093   \n",
              "\n",
              "         58      59    60  \n",
              "64   0.0073  0.0063  Rock  \n",
              "94   0.0028  0.0014  Rock  \n",
              "50   0.0093  0.0053  Rock  \n",
              "87   0.0037  0.0037  Rock  \n",
              "125  0.0012  0.0036  Mine  \n",
              "\n",
              "[5 rows x 61 columns]"
            ],
            "text/html": [
              "\n",
              "  <div id=\"df-253001b6-76a4-428d-9942-eeeef9c190da\">\n",
              "    <div class=\"colab-df-container\">\n",
              "      <div>\n",
              "<style scoped>\n",
              "    .dataframe tbody tr th:only-of-type {\n",
              "        vertical-align: middle;\n",
              "    }\n",
              "\n",
              "    .dataframe tbody tr th {\n",
              "        vertical-align: top;\n",
              "    }\n",
              "\n",
              "    .dataframe thead th {\n",
              "        text-align: right;\n",
              "    }\n",
              "</style>\n",
              "<table border=\"1\" class=\"dataframe\">\n",
              "  <thead>\n",
              "    <tr style=\"text-align: right;\">\n",
              "      <th></th>\n",
              "      <th>0</th>\n",
              "      <th>1</th>\n",
              "      <th>2</th>\n",
              "      <th>3</th>\n",
              "      <th>4</th>\n",
              "      <th>5</th>\n",
              "      <th>6</th>\n",
              "      <th>7</th>\n",
              "      <th>8</th>\n",
              "      <th>9</th>\n",
              "      <th>...</th>\n",
              "      <th>51</th>\n",
              "      <th>52</th>\n",
              "      <th>53</th>\n",
              "      <th>54</th>\n",
              "      <th>55</th>\n",
              "      <th>56</th>\n",
              "      <th>57</th>\n",
              "      <th>58</th>\n",
              "      <th>59</th>\n",
              "      <th>60</th>\n",
              "    </tr>\n",
              "  </thead>\n",
              "  <tbody>\n",
              "    <tr>\n",
              "      <th>64</th>\n",
              "      <td>0.0071</td>\n",
              "      <td>0.0103</td>\n",
              "      <td>0.0135</td>\n",
              "      <td>0.0494</td>\n",
              "      <td>0.0253</td>\n",
              "      <td>0.0806</td>\n",
              "      <td>0.0701</td>\n",
              "      <td>0.0738</td>\n",
              "      <td>0.0117</td>\n",
              "      <td>0.0898</td>\n",
              "      <td>...</td>\n",
              "      <td>0.0043</td>\n",
              "      <td>0.0048</td>\n",
              "      <td>0.0076</td>\n",
              "      <td>0.0124</td>\n",
              "      <td>0.0105</td>\n",
              "      <td>0.0054</td>\n",
              "      <td>0.0032</td>\n",
              "      <td>0.0073</td>\n",
              "      <td>0.0063</td>\n",
              "      <td>Rock</td>\n",
              "    </tr>\n",
              "    <tr>\n",
              "      <th>94</th>\n",
              "      <td>0.0025</td>\n",
              "      <td>0.0309</td>\n",
              "      <td>0.0171</td>\n",
              "      <td>0.0228</td>\n",
              "      <td>0.0434</td>\n",
              "      <td>0.1224</td>\n",
              "      <td>0.1947</td>\n",
              "      <td>0.1661</td>\n",
              "      <td>0.1368</td>\n",
              "      <td>0.1430</td>\n",
              "      <td>...</td>\n",
              "      <td>0.0149</td>\n",
              "      <td>0.0077</td>\n",
              "      <td>0.0036</td>\n",
              "      <td>0.0114</td>\n",
              "      <td>0.0085</td>\n",
              "      <td>0.0101</td>\n",
              "      <td>0.0016</td>\n",
              "      <td>0.0028</td>\n",
              "      <td>0.0014</td>\n",
              "      <td>Rock</td>\n",
              "    </tr>\n",
              "    <tr>\n",
              "      <th>50</th>\n",
              "      <td>0.0353</td>\n",
              "      <td>0.0713</td>\n",
              "      <td>0.0326</td>\n",
              "      <td>0.0272</td>\n",
              "      <td>0.0370</td>\n",
              "      <td>0.0792</td>\n",
              "      <td>0.1083</td>\n",
              "      <td>0.0687</td>\n",
              "      <td>0.0298</td>\n",
              "      <td>0.0880</td>\n",
              "      <td>...</td>\n",
              "      <td>0.0163</td>\n",
              "      <td>0.0242</td>\n",
              "      <td>0.0043</td>\n",
              "      <td>0.0202</td>\n",
              "      <td>0.0108</td>\n",
              "      <td>0.0037</td>\n",
              "      <td>0.0096</td>\n",
              "      <td>0.0093</td>\n",
              "      <td>0.0053</td>\n",
              "      <td>Rock</td>\n",
              "    </tr>\n",
              "    <tr>\n",
              "      <th>87</th>\n",
              "      <td>0.0856</td>\n",
              "      <td>0.0454</td>\n",
              "      <td>0.0382</td>\n",
              "      <td>0.0203</td>\n",
              "      <td>0.0385</td>\n",
              "      <td>0.0534</td>\n",
              "      <td>0.2140</td>\n",
              "      <td>0.3110</td>\n",
              "      <td>0.2837</td>\n",
              "      <td>0.2751</td>\n",
              "      <td>...</td>\n",
              "      <td>0.0172</td>\n",
              "      <td>0.0138</td>\n",
              "      <td>0.0079</td>\n",
              "      <td>0.0037</td>\n",
              "      <td>0.0051</td>\n",
              "      <td>0.0258</td>\n",
              "      <td>0.0102</td>\n",
              "      <td>0.0037</td>\n",
              "      <td>0.0037</td>\n",
              "      <td>Rock</td>\n",
              "    </tr>\n",
              "    <tr>\n",
              "      <th>125</th>\n",
              "      <td>0.0228</td>\n",
              "      <td>0.0853</td>\n",
              "      <td>0.1000</td>\n",
              "      <td>0.0428</td>\n",
              "      <td>0.1117</td>\n",
              "      <td>0.1651</td>\n",
              "      <td>0.1597</td>\n",
              "      <td>0.2116</td>\n",
              "      <td>0.3295</td>\n",
              "      <td>0.3517</td>\n",
              "      <td>...</td>\n",
              "      <td>0.0172</td>\n",
              "      <td>0.0191</td>\n",
              "      <td>0.0260</td>\n",
              "      <td>0.0140</td>\n",
              "      <td>0.0125</td>\n",
              "      <td>0.0116</td>\n",
              "      <td>0.0093</td>\n",
              "      <td>0.0012</td>\n",
              "      <td>0.0036</td>\n",
              "      <td>Mine</td>\n",
              "    </tr>\n",
              "  </tbody>\n",
              "</table>\n",
              "<p>5 rows × 61 columns</p>\n",
              "</div>\n",
              "      <button class=\"colab-df-convert\" onclick=\"convertToInteractive('df-253001b6-76a4-428d-9942-eeeef9c190da')\"\n",
              "              title=\"Convert this dataframe to an interactive table.\"\n",
              "              style=\"display:none;\">\n",
              "        \n",
              "  <svg xmlns=\"http://www.w3.org/2000/svg\" height=\"24px\"viewBox=\"0 0 24 24\"\n",
              "       width=\"24px\">\n",
              "    <path d=\"M0 0h24v24H0V0z\" fill=\"none\"/>\n",
              "    <path d=\"M18.56 5.44l.94 2.06.94-2.06 2.06-.94-2.06-.94-.94-2.06-.94 2.06-2.06.94zm-11 1L8.5 8.5l.94-2.06 2.06-.94-2.06-.94L8.5 2.5l-.94 2.06-2.06.94zm10 10l.94 2.06.94-2.06 2.06-.94-2.06-.94-.94-2.06-.94 2.06-2.06.94z\"/><path d=\"M17.41 7.96l-1.37-1.37c-.4-.4-.92-.59-1.43-.59-.52 0-1.04.2-1.43.59L10.3 9.45l-7.72 7.72c-.78.78-.78 2.05 0 2.83L4 21.41c.39.39.9.59 1.41.59.51 0 1.02-.2 1.41-.59l7.78-7.78 2.81-2.81c.8-.78.8-2.07 0-2.86zM5.41 20L4 18.59l7.72-7.72 1.47 1.35L5.41 20z\"/>\n",
              "  </svg>\n",
              "      </button>\n",
              "      \n",
              "  <style>\n",
              "    .colab-df-container {\n",
              "      display:flex;\n",
              "      flex-wrap:wrap;\n",
              "      gap: 12px;\n",
              "    }\n",
              "\n",
              "    .colab-df-convert {\n",
              "      background-color: #E8F0FE;\n",
              "      border: none;\n",
              "      border-radius: 50%;\n",
              "      cursor: pointer;\n",
              "      display: none;\n",
              "      fill: #1967D2;\n",
              "      height: 32px;\n",
              "      padding: 0 0 0 0;\n",
              "      width: 32px;\n",
              "    }\n",
              "\n",
              "    .colab-df-convert:hover {\n",
              "      background-color: #E2EBFA;\n",
              "      box-shadow: 0px 1px 2px rgba(60, 64, 67, 0.3), 0px 1px 3px 1px rgba(60, 64, 67, 0.15);\n",
              "      fill: #174EA6;\n",
              "    }\n",
              "\n",
              "    [theme=dark] .colab-df-convert {\n",
              "      background-color: #3B4455;\n",
              "      fill: #D2E3FC;\n",
              "    }\n",
              "\n",
              "    [theme=dark] .colab-df-convert:hover {\n",
              "      background-color: #434B5C;\n",
              "      box-shadow: 0px 1px 3px 1px rgba(0, 0, 0, 0.15);\n",
              "      filter: drop-shadow(0px 1px 2px rgba(0, 0, 0, 0.3));\n",
              "      fill: #FFFFFF;\n",
              "    }\n",
              "  </style>\n",
              "\n",
              "      <script>\n",
              "        const buttonEl =\n",
              "          document.querySelector('#df-253001b6-76a4-428d-9942-eeeef9c190da button.colab-df-convert');\n",
              "        buttonEl.style.display =\n",
              "          google.colab.kernel.accessAllowed ? 'block' : 'none';\n",
              "\n",
              "        async function convertToInteractive(key) {\n",
              "          const element = document.querySelector('#df-253001b6-76a4-428d-9942-eeeef9c190da');\n",
              "          const dataTable =\n",
              "            await google.colab.kernel.invokeFunction('convertToInteractive',\n",
              "                                                     [key], {});\n",
              "          if (!dataTable) return;\n",
              "\n",
              "          const docLinkHtml = 'Like what you see? Visit the ' +\n",
              "            '<a target=\"_blank\" href=https://colab.research.google.com/notebooks/data_table.ipynb>data table notebook</a>'\n",
              "            + ' to learn more about interactive tables.';\n",
              "          element.innerHTML = '';\n",
              "          dataTable['output_type'] = 'display_data';\n",
              "          await google.colab.output.renderOutput(dataTable, element);\n",
              "          const docLink = document.createElement('div');\n",
              "          docLink.innerHTML = docLinkHtml;\n",
              "          element.appendChild(docLink);\n",
              "        }\n",
              "      </script>\n",
              "    </div>\n",
              "  </div>\n",
              "  "
            ]
          },
          "metadata": {},
          "execution_count": 2
        }
      ]
    },
    {
      "cell_type": "code",
      "source": [
        "X = df.drop(60,axis=1)\n",
        "y=df[60]\n",
        "y.head()"
      ],
      "metadata": {
        "colab": {
          "base_uri": "https://localhost:8080/"
        },
        "id": "0YRYo8liOa-7",
        "outputId": "24f2ba28-c78e-4d87-f110-9405f6364793"
      },
      "execution_count": 10,
      "outputs": [
        {
          "output_type": "execute_result",
          "data": {
            "text/plain": [
              "0    Rock\n",
              "1    Rock\n",
              "2    Rock\n",
              "3    Rock\n",
              "4    Rock\n",
              "Name: 60, dtype: object"
            ]
          },
          "metadata": {},
          "execution_count": 10
        }
      ]
    },
    {
      "cell_type": "code",
      "source": [
        "y.sample(5)"
      ],
      "metadata": {
        "colab": {
          "base_uri": "https://localhost:8080/"
        },
        "id": "Mw2jOgO8O0h1",
        "outputId": "2930db5a-58db-4b0e-b416-71522ba14b7b"
      },
      "execution_count": 11,
      "outputs": [
        {
          "output_type": "execute_result",
          "data": {
            "text/plain": [
              "52     Rock\n",
              "120    Mine\n",
              "122    Mine\n",
              "64     Rock\n",
              "182    Mine\n",
              "Name: 60, dtype: object"
            ]
          },
          "metadata": {},
          "execution_count": 11
        }
      ]
    },
    {
      "cell_type": "code",
      "source": [
        "from sklearn.preprocessing import LabelEncoder\n",
        "encoder = LabelEncoder()\n",
        "y = encoder.fit_transform(y)\n",
        "y"
      ],
      "metadata": {
        "colab": {
          "base_uri": "https://localhost:8080/"
        },
        "id": "FT7ssK2wO0Wj",
        "outputId": "3d200300-226f-4c6e-c87c-17cd7ad7d661"
      },
      "execution_count": 12,
      "outputs": [
        {
          "output_type": "execute_result",
          "data": {
            "text/plain": [
              "array([1, 1, 1, 1, 1, 1, 1, 1, 1, 1, 1, 1, 1, 1, 1, 1, 1, 1, 1, 1, 1, 1,\n",
              "       1, 1, 1, 1, 1, 1, 1, 1, 1, 1, 1, 1, 1, 1, 1, 1, 1, 1, 1, 1, 1, 1,\n",
              "       1, 1, 1, 1, 1, 1, 1, 1, 1, 1, 1, 1, 1, 1, 1, 1, 1, 1, 1, 1, 1, 1,\n",
              "       1, 1, 1, 1, 1, 1, 1, 1, 1, 1, 1, 1, 1, 1, 1, 1, 1, 1, 1, 1, 1, 1,\n",
              "       1, 1, 1, 1, 1, 1, 1, 1, 1, 0, 0, 0, 0, 0, 0, 0, 0, 0, 0, 0, 0, 0,\n",
              "       0, 0, 0, 0, 0, 0, 0, 0, 0, 0, 0, 0, 0, 0, 0, 0, 0, 0, 0, 0, 0, 0,\n",
              "       0, 0, 0, 0, 0, 0, 0, 0, 0, 0, 0, 0, 0, 0, 0, 0, 0, 0, 0, 0, 0, 0,\n",
              "       0, 0, 0, 0, 0, 0, 0, 0, 0, 0, 0, 0, 0, 0, 0, 0, 0, 0, 0, 0, 0, 0,\n",
              "       0, 0, 0, 0, 0, 0, 0, 0, 0, 0, 0, 0, 0, 0, 0, 0, 0, 0, 0, 0, 0, 0,\n",
              "       0, 0, 0, 0, 0, 0, 0, 0, 0, 0])"
            ]
          },
          "metadata": {},
          "execution_count": 12
        }
      ]
    },
    {
      "cell_type": "code",
      "source": [
        "from sklearn.model_selection import train_test_split\n",
        "X_train, X_test, y_train, y_test = train_test_split(X,y,test_size=0.25,random_state = 1)"
      ],
      "metadata": {
        "id": "e2sbSLZ9mtii"
      },
      "execution_count": 13,
      "outputs": []
    },
    {
      "cell_type": "code",
      "source": [
        "import tensorflow as tf\n",
        "from tensorflow import keras"
      ],
      "metadata": {
        "id": "X7tpzztDmtJi"
      },
      "execution_count": 15,
      "outputs": []
    },
    {
      "cell_type": "code",
      "source": [
        "model = keras.Sequential([\n",
        "    keras.layers.Dense(80,input_dim=60,activation='relu'),\n",
        "    keras.layers.Dense(30,activation='relu'),\n",
        "    keras.layers.Dense(15,activation='relu'),\n",
        "    keras.layers.Dense(1,activation='sigmoid'),\n",
        "])"
      ],
      "metadata": {
        "id": "2lSbpsFHms9h"
      },
      "execution_count": 16,
      "outputs": []
    },
    {
      "cell_type": "code",
      "source": [
        "model.compile(loss='binary_crossentropy',optimizer='adam',metrics=['accuracy'])"
      ],
      "metadata": {
        "id": "4MDRy-eHmse1"
      },
      "execution_count": 17,
      "outputs": []
    },
    {
      "cell_type": "code",
      "source": [
        "H = model.fit(X_train,y_train,epochs=100,batch_size=8,validation_split=0.3)"
      ],
      "metadata": {
        "colab": {
          "base_uri": "https://localhost:8080/"
        },
        "id": "Su78N5bhO0Me",
        "outputId": "a9a460c7-e803-44f4-8ec2-5e6dd0ef3afb"
      },
      "execution_count": 18,
      "outputs": [
        {
          "output_type": "stream",
          "name": "stdout",
          "text": [
            "Epoch 1/100\n",
            "14/14 [==============================] - 2s 47ms/step - loss: 0.6936 - accuracy: 0.4954 - val_loss: 0.6865 - val_accuracy: 0.5532\n",
            "Epoch 2/100\n",
            "14/14 [==============================] - 0s 10ms/step - loss: 0.6874 - accuracy: 0.5872 - val_loss: 0.6806 - val_accuracy: 0.5319\n",
            "Epoch 3/100\n",
            "14/14 [==============================] - 0s 11ms/step - loss: 0.6794 - accuracy: 0.5413 - val_loss: 0.6723 - val_accuracy: 0.5319\n",
            "Epoch 4/100\n",
            "14/14 [==============================] - 0s 10ms/step - loss: 0.6694 - accuracy: 0.5413 - val_loss: 0.6587 - val_accuracy: 0.5319\n",
            "Epoch 5/100\n",
            "14/14 [==============================] - 0s 9ms/step - loss: 0.6576 - accuracy: 0.5780 - val_loss: 0.6415 - val_accuracy: 0.5957\n",
            "Epoch 6/100\n",
            "14/14 [==============================] - 0s 9ms/step - loss: 0.6410 - accuracy: 0.7339 - val_loss: 0.6177 - val_accuracy: 0.6383\n",
            "Epoch 7/100\n",
            "14/14 [==============================] - 0s 9ms/step - loss: 0.6226 - accuracy: 0.6972 - val_loss: 0.5953 - val_accuracy: 0.6809\n",
            "Epoch 8/100\n",
            "14/14 [==============================] - 0s 9ms/step - loss: 0.6003 - accuracy: 0.6881 - val_loss: 0.5572 - val_accuracy: 0.7872\n",
            "Epoch 9/100\n",
            "14/14 [==============================] - 0s 11ms/step - loss: 0.5704 - accuracy: 0.7523 - val_loss: 0.5304 - val_accuracy: 0.7660\n",
            "Epoch 10/100\n",
            "14/14 [==============================] - 0s 9ms/step - loss: 0.5407 - accuracy: 0.8165 - val_loss: 0.5264 - val_accuracy: 0.7021\n",
            "Epoch 11/100\n",
            "14/14 [==============================] - 0s 8ms/step - loss: 0.5053 - accuracy: 0.8073 - val_loss: 0.4719 - val_accuracy: 0.8298\n",
            "Epoch 12/100\n",
            "14/14 [==============================] - 0s 9ms/step - loss: 0.4708 - accuracy: 0.8349 - val_loss: 0.4908 - val_accuracy: 0.7660\n",
            "Epoch 13/100\n",
            "14/14 [==============================] - 0s 10ms/step - loss: 0.4389 - accuracy: 0.8991 - val_loss: 0.4491 - val_accuracy: 0.8085\n",
            "Epoch 14/100\n",
            "14/14 [==============================] - 0s 10ms/step - loss: 0.4018 - accuracy: 0.8624 - val_loss: 0.4110 - val_accuracy: 0.8511\n",
            "Epoch 15/100\n",
            "14/14 [==============================] - 0s 10ms/step - loss: 0.3760 - accuracy: 0.8991 - val_loss: 0.4233 - val_accuracy: 0.8511\n",
            "Epoch 16/100\n",
            "14/14 [==============================] - 0s 11ms/step - loss: 0.3558 - accuracy: 0.8624 - val_loss: 0.5127 - val_accuracy: 0.7660\n",
            "Epoch 17/100\n",
            "14/14 [==============================] - 0s 9ms/step - loss: 0.3531 - accuracy: 0.8899 - val_loss: 0.4967 - val_accuracy: 0.7872\n",
            "Epoch 18/100\n",
            "14/14 [==============================] - 0s 10ms/step - loss: 0.3386 - accuracy: 0.8991 - val_loss: 0.4000 - val_accuracy: 0.8298\n",
            "Epoch 19/100\n",
            "14/14 [==============================] - 0s 10ms/step - loss: 0.3184 - accuracy: 0.8716 - val_loss: 0.4130 - val_accuracy: 0.8511\n",
            "Epoch 20/100\n",
            "14/14 [==============================] - 0s 10ms/step - loss: 0.2967 - accuracy: 0.9266 - val_loss: 0.4082 - val_accuracy: 0.8511\n",
            "Epoch 21/100\n",
            "14/14 [==============================] - 0s 10ms/step - loss: 0.3129 - accuracy: 0.8624 - val_loss: 0.4089 - val_accuracy: 0.7872\n",
            "Epoch 22/100\n",
            "14/14 [==============================] - 0s 10ms/step - loss: 0.3097 - accuracy: 0.8440 - val_loss: 0.6285 - val_accuracy: 0.7872\n",
            "Epoch 23/100\n",
            "14/14 [==============================] - 0s 11ms/step - loss: 0.2556 - accuracy: 0.9174 - val_loss: 0.4315 - val_accuracy: 0.8511\n",
            "Epoch 24/100\n",
            "14/14 [==============================] - 0s 10ms/step - loss: 0.2297 - accuracy: 0.9450 - val_loss: 0.4608 - val_accuracy: 0.8298\n",
            "Epoch 25/100\n",
            "14/14 [==============================] - 0s 9ms/step - loss: 0.2121 - accuracy: 0.9725 - val_loss: 0.5038 - val_accuracy: 0.8298\n",
            "Epoch 26/100\n",
            "14/14 [==============================] - 0s 11ms/step - loss: 0.2005 - accuracy: 0.9541 - val_loss: 0.4831 - val_accuracy: 0.8511\n",
            "Epoch 27/100\n",
            "14/14 [==============================] - 0s 9ms/step - loss: 0.1947 - accuracy: 0.9541 - val_loss: 0.5625 - val_accuracy: 0.8298\n",
            "Epoch 28/100\n",
            "14/14 [==============================] - 0s 10ms/step - loss: 0.1971 - accuracy: 0.9358 - val_loss: 0.4767 - val_accuracy: 0.8085\n",
            "Epoch 29/100\n",
            "14/14 [==============================] - 0s 9ms/step - loss: 0.1951 - accuracy: 0.9358 - val_loss: 0.5080 - val_accuracy: 0.8511\n",
            "Epoch 30/100\n",
            "14/14 [==============================] - 0s 12ms/step - loss: 0.1561 - accuracy: 0.9725 - val_loss: 0.6251 - val_accuracy: 0.8298\n",
            "Epoch 31/100\n",
            "14/14 [==============================] - 0s 13ms/step - loss: 0.1738 - accuracy: 0.9266 - val_loss: 0.6028 - val_accuracy: 0.8298\n",
            "Epoch 32/100\n",
            "14/14 [==============================] - 0s 11ms/step - loss: 0.1470 - accuracy: 0.9633 - val_loss: 0.5266 - val_accuracy: 0.8511\n",
            "Epoch 33/100\n",
            "14/14 [==============================] - 0s 12ms/step - loss: 0.1357 - accuracy: 0.9817 - val_loss: 0.6231 - val_accuracy: 0.8298\n",
            "Epoch 34/100\n",
            "14/14 [==============================] - 0s 15ms/step - loss: 0.1156 - accuracy: 0.9908 - val_loss: 0.5837 - val_accuracy: 0.8511\n",
            "Epoch 35/100\n",
            "14/14 [==============================] - 0s 11ms/step - loss: 0.1185 - accuracy: 0.9817 - val_loss: 0.6698 - val_accuracy: 0.8298\n",
            "Epoch 36/100\n",
            "14/14 [==============================] - 0s 11ms/step - loss: 0.1170 - accuracy: 0.9817 - val_loss: 0.6752 - val_accuracy: 0.8298\n",
            "Epoch 37/100\n",
            "14/14 [==============================] - 0s 10ms/step - loss: 0.1262 - accuracy: 0.9541 - val_loss: 0.7709 - val_accuracy: 0.8298\n",
            "Epoch 38/100\n",
            "14/14 [==============================] - 0s 13ms/step - loss: 0.1203 - accuracy: 0.9633 - val_loss: 0.8031 - val_accuracy: 0.8298\n",
            "Epoch 39/100\n",
            "14/14 [==============================] - 0s 10ms/step - loss: 0.1061 - accuracy: 0.9817 - val_loss: 0.6841 - val_accuracy: 0.8298\n",
            "Epoch 40/100\n",
            "14/14 [==============================] - 0s 10ms/step - loss: 0.0716 - accuracy: 1.0000 - val_loss: 0.6934 - val_accuracy: 0.8511\n",
            "Epoch 41/100\n",
            "14/14 [==============================] - 0s 10ms/step - loss: 0.0703 - accuracy: 1.0000 - val_loss: 0.7558 - val_accuracy: 0.8298\n",
            "Epoch 42/100\n",
            "14/14 [==============================] - 0s 14ms/step - loss: 0.0760 - accuracy: 1.0000 - val_loss: 0.7250 - val_accuracy: 0.8298\n",
            "Epoch 43/100\n",
            "14/14 [==============================] - 0s 9ms/step - loss: 0.0733 - accuracy: 1.0000 - val_loss: 0.7345 - val_accuracy: 0.8511\n",
            "Epoch 44/100\n",
            "14/14 [==============================] - 0s 9ms/step - loss: 0.0505 - accuracy: 1.0000 - val_loss: 0.7386 - val_accuracy: 0.8723\n",
            "Epoch 45/100\n",
            "14/14 [==============================] - 0s 10ms/step - loss: 0.0818 - accuracy: 0.9725 - val_loss: 0.7479 - val_accuracy: 0.8511\n",
            "Epoch 46/100\n",
            "14/14 [==============================] - 0s 9ms/step - loss: 0.0781 - accuracy: 0.9817 - val_loss: 0.7993 - val_accuracy: 0.8298\n",
            "Epoch 47/100\n",
            "14/14 [==============================] - 0s 10ms/step - loss: 0.0402 - accuracy: 1.0000 - val_loss: 0.8027 - val_accuracy: 0.8298\n",
            "Epoch 48/100\n",
            "14/14 [==============================] - 0s 9ms/step - loss: 0.0386 - accuracy: 1.0000 - val_loss: 0.8530 - val_accuracy: 0.8298\n",
            "Epoch 49/100\n",
            "14/14 [==============================] - 0s 9ms/step - loss: 0.0355 - accuracy: 1.0000 - val_loss: 0.8233 - val_accuracy: 0.8511\n",
            "Epoch 50/100\n",
            "14/14 [==============================] - 0s 8ms/step - loss: 0.0311 - accuracy: 1.0000 - val_loss: 0.8344 - val_accuracy: 0.8511\n",
            "Epoch 51/100\n",
            "14/14 [==============================] - 0s 9ms/step - loss: 0.0278 - accuracy: 1.0000 - val_loss: 0.8672 - val_accuracy: 0.8511\n",
            "Epoch 52/100\n",
            "14/14 [==============================] - 0s 11ms/step - loss: 0.0264 - accuracy: 1.0000 - val_loss: 0.8460 - val_accuracy: 0.8723\n",
            "Epoch 53/100\n",
            "14/14 [==============================] - 0s 9ms/step - loss: 0.0297 - accuracy: 1.0000 - val_loss: 0.8934 - val_accuracy: 0.8511\n",
            "Epoch 54/100\n",
            "14/14 [==============================] - 0s 10ms/step - loss: 0.0221 - accuracy: 1.0000 - val_loss: 0.9005 - val_accuracy: 0.8511\n",
            "Epoch 55/100\n",
            "14/14 [==============================] - 0s 9ms/step - loss: 0.0221 - accuracy: 1.0000 - val_loss: 0.9166 - val_accuracy: 0.8511\n",
            "Epoch 56/100\n",
            "14/14 [==============================] - 0s 9ms/step - loss: 0.0196 - accuracy: 1.0000 - val_loss: 0.9286 - val_accuracy: 0.8511\n",
            "Epoch 57/100\n",
            "14/14 [==============================] - 0s 10ms/step - loss: 0.0196 - accuracy: 1.0000 - val_loss: 0.8981 - val_accuracy: 0.8723\n",
            "Epoch 58/100\n",
            "14/14 [==============================] - 0s 9ms/step - loss: 0.0187 - accuracy: 1.0000 - val_loss: 0.9448 - val_accuracy: 0.8511\n",
            "Epoch 59/100\n",
            "14/14 [==============================] - 0s 10ms/step - loss: 0.0166 - accuracy: 1.0000 - val_loss: 0.9757 - val_accuracy: 0.8511\n",
            "Epoch 60/100\n",
            "14/14 [==============================] - 0s 12ms/step - loss: 0.0158 - accuracy: 1.0000 - val_loss: 0.9262 - val_accuracy: 0.8511\n",
            "Epoch 61/100\n",
            "14/14 [==============================] - 0s 9ms/step - loss: 0.0161 - accuracy: 1.0000 - val_loss: 0.9587 - val_accuracy: 0.8511\n",
            "Epoch 62/100\n",
            "14/14 [==============================] - 0s 13ms/step - loss: 0.0137 - accuracy: 1.0000 - val_loss: 0.9809 - val_accuracy: 0.8511\n",
            "Epoch 63/100\n",
            "14/14 [==============================] - 0s 10ms/step - loss: 0.0121 - accuracy: 1.0000 - val_loss: 1.0044 - val_accuracy: 0.8511\n",
            "Epoch 64/100\n",
            "14/14 [==============================] - 0s 11ms/step - loss: 0.0121 - accuracy: 1.0000 - val_loss: 0.9978 - val_accuracy: 0.8511\n",
            "Epoch 65/100\n",
            "14/14 [==============================] - 0s 10ms/step - loss: 0.0109 - accuracy: 1.0000 - val_loss: 1.0075 - val_accuracy: 0.8511\n",
            "Epoch 66/100\n",
            "14/14 [==============================] - 0s 10ms/step - loss: 0.0107 - accuracy: 1.0000 - val_loss: 1.0108 - val_accuracy: 0.8511\n",
            "Epoch 67/100\n",
            "14/14 [==============================] - 0s 10ms/step - loss: 0.0101 - accuracy: 1.0000 - val_loss: 1.0484 - val_accuracy: 0.8511\n",
            "Epoch 68/100\n",
            "14/14 [==============================] - 0s 10ms/step - loss: 0.0094 - accuracy: 1.0000 - val_loss: 1.0131 - val_accuracy: 0.8723\n",
            "Epoch 69/100\n",
            "14/14 [==============================] - 0s 15ms/step - loss: 0.0094 - accuracy: 1.0000 - val_loss: 1.0558 - val_accuracy: 0.8511\n",
            "Epoch 70/100\n",
            "14/14 [==============================] - 0s 11ms/step - loss: 0.0087 - accuracy: 1.0000 - val_loss: 1.0542 - val_accuracy: 0.8511\n",
            "Epoch 71/100\n",
            "14/14 [==============================] - 0s 11ms/step - loss: 0.0081 - accuracy: 1.0000 - val_loss: 1.0649 - val_accuracy: 0.8511\n",
            "Epoch 72/100\n",
            "14/14 [==============================] - 0s 11ms/step - loss: 0.0082 - accuracy: 1.0000 - val_loss: 1.1119 - val_accuracy: 0.8511\n",
            "Epoch 73/100\n",
            "14/14 [==============================] - 0s 10ms/step - loss: 0.0089 - accuracy: 1.0000 - val_loss: 1.0887 - val_accuracy: 0.8511\n",
            "Epoch 74/100\n",
            "14/14 [==============================] - 0s 9ms/step - loss: 0.0080 - accuracy: 1.0000 - val_loss: 1.0655 - val_accuracy: 0.8511\n",
            "Epoch 75/100\n",
            "14/14 [==============================] - 0s 9ms/step - loss: 0.0068 - accuracy: 1.0000 - val_loss: 1.0959 - val_accuracy: 0.8511\n",
            "Epoch 76/100\n",
            "14/14 [==============================] - 0s 8ms/step - loss: 0.0064 - accuracy: 1.0000 - val_loss: 1.0937 - val_accuracy: 0.8511\n",
            "Epoch 77/100\n",
            "14/14 [==============================] - 0s 11ms/step - loss: 0.0063 - accuracy: 1.0000 - val_loss: 1.1125 - val_accuracy: 0.8511\n",
            "Epoch 78/100\n",
            "14/14 [==============================] - 0s 9ms/step - loss: 0.0058 - accuracy: 1.0000 - val_loss: 1.1111 - val_accuracy: 0.8511\n",
            "Epoch 79/100\n",
            "14/14 [==============================] - 0s 10ms/step - loss: 0.0059 - accuracy: 1.0000 - val_loss: 1.1145 - val_accuracy: 0.8511\n",
            "Epoch 80/100\n",
            "14/14 [==============================] - 0s 10ms/step - loss: 0.0054 - accuracy: 1.0000 - val_loss: 1.1432 - val_accuracy: 0.8511\n",
            "Epoch 81/100\n",
            "14/14 [==============================] - 0s 9ms/step - loss: 0.0051 - accuracy: 1.0000 - val_loss: 1.1418 - val_accuracy: 0.8511\n",
            "Epoch 82/100\n",
            "14/14 [==============================] - 0s 10ms/step - loss: 0.0050 - accuracy: 1.0000 - val_loss: 1.1448 - val_accuracy: 0.8511\n",
            "Epoch 83/100\n",
            "14/14 [==============================] - 0s 11ms/step - loss: 0.0049 - accuracy: 1.0000 - val_loss: 1.1474 - val_accuracy: 0.8511\n",
            "Epoch 84/100\n",
            "14/14 [==============================] - 0s 10ms/step - loss: 0.0048 - accuracy: 1.0000 - val_loss: 1.1817 - val_accuracy: 0.8511\n",
            "Epoch 85/100\n",
            "14/14 [==============================] - 0s 10ms/step - loss: 0.0049 - accuracy: 1.0000 - val_loss: 1.1644 - val_accuracy: 0.8511\n",
            "Epoch 86/100\n",
            "14/14 [==============================] - 0s 10ms/step - loss: 0.0043 - accuracy: 1.0000 - val_loss: 1.1869 - val_accuracy: 0.8511\n",
            "Epoch 87/100\n",
            "14/14 [==============================] - 0s 10ms/step - loss: 0.0040 - accuracy: 1.0000 - val_loss: 1.1755 - val_accuracy: 0.8511\n",
            "Epoch 88/100\n",
            "14/14 [==============================] - 0s 10ms/step - loss: 0.0039 - accuracy: 1.0000 - val_loss: 1.1998 - val_accuracy: 0.8511\n",
            "Epoch 89/100\n",
            "14/14 [==============================] - 0s 12ms/step - loss: 0.0042 - accuracy: 1.0000 - val_loss: 1.2207 - val_accuracy: 0.8511\n",
            "Epoch 90/100\n",
            "14/14 [==============================] - 0s 10ms/step - loss: 0.0038 - accuracy: 1.0000 - val_loss: 1.2057 - val_accuracy: 0.8511\n",
            "Epoch 91/100\n",
            "14/14 [==============================] - 0s 10ms/step - loss: 0.0033 - accuracy: 1.0000 - val_loss: 1.2132 - val_accuracy: 0.8511\n",
            "Epoch 92/100\n",
            "14/14 [==============================] - 0s 9ms/step - loss: 0.0032 - accuracy: 1.0000 - val_loss: 1.2239 - val_accuracy: 0.8511\n",
            "Epoch 93/100\n",
            "14/14 [==============================] - 0s 10ms/step - loss: 0.0032 - accuracy: 1.0000 - val_loss: 1.2257 - val_accuracy: 0.8511\n",
            "Epoch 94/100\n",
            "14/14 [==============================] - 0s 12ms/step - loss: 0.0030 - accuracy: 1.0000 - val_loss: 1.2212 - val_accuracy: 0.8511\n",
            "Epoch 95/100\n",
            "14/14 [==============================] - 0s 9ms/step - loss: 0.0029 - accuracy: 1.0000 - val_loss: 1.2449 - val_accuracy: 0.8511\n",
            "Epoch 96/100\n",
            "14/14 [==============================] - 0s 9ms/step - loss: 0.0028 - accuracy: 1.0000 - val_loss: 1.2420 - val_accuracy: 0.8511\n",
            "Epoch 97/100\n",
            "14/14 [==============================] - 0s 9ms/step - loss: 0.0028 - accuracy: 1.0000 - val_loss: 1.2512 - val_accuracy: 0.8511\n",
            "Epoch 98/100\n",
            "14/14 [==============================] - 0s 9ms/step - loss: 0.0028 - accuracy: 1.0000 - val_loss: 1.2561 - val_accuracy: 0.8511\n",
            "Epoch 99/100\n",
            "14/14 [==============================] - 0s 9ms/step - loss: 0.0027 - accuracy: 1.0000 - val_loss: 1.2664 - val_accuracy: 0.8511\n",
            "Epoch 100/100\n",
            "14/14 [==============================] - 0s 9ms/step - loss: 0.0026 - accuracy: 1.0000 - val_loss: 1.2687 - val_accuracy: 0.8511\n"
          ]
        }
      ]
    },
    {
      "cell_type": "code",
      "source": [
        "loss,acc = model.evaluate(X_test,y_test)\n",
        "print(\"test_acc = \" + str(100*acc) + \" and test_loss = \"+str(loss))"
      ],
      "metadata": {
        "colab": {
          "base_uri": "https://localhost:8080/"
        },
        "id": "U474oBD4pAcG",
        "outputId": "6d0c2f93-30dc-46ad-8fcd-89f76520c8d5"
      },
      "execution_count": 22,
      "outputs": [
        {
          "output_type": "stream",
          "name": "stdout",
          "text": [
            "2/2 [==============================] - 0s 7ms/step - loss: 1.4410 - accuracy: 0.7500\n",
            "test_acc = 75.0 and test_loss = 1.4410324096679688\n"
          ]
        }
      ]
    },
    {
      "cell_type": "code",
      "source": [
        "loss,acc = model.evaluate(X_train,y_train)\n",
        "print(\"train_acc = \" + str(100*acc) + \" and train_loss = \"+str(loss))"
      ],
      "metadata": {
        "colab": {
          "base_uri": "https://localhost:8080/"
        },
        "id": "49S_kWPGpASy",
        "outputId": "b60e5144-62a2-4c48-ddb1-06ee2395f2e9"
      },
      "execution_count": 23,
      "outputs": [
        {
          "output_type": "stream",
          "name": "stdout",
          "text": [
            "5/5 [==============================] - 0s 8ms/step - loss: 0.3839 - accuracy: 0.9551\n",
            "train_acc = 95.51281929016113 and train_loss = 0.38391876220703125\n"
          ]
        }
      ]
    },
    {
      "cell_type": "code",
      "source": [
        "import matplotlib.pyplot as plt\n",
        "epochs = np.arange(0,len(H.history['loss']))\n",
        "\n",
        "plt.plot(epochs,H.history['loss'],label='train_loss',c='red')\n",
        "plt.plot(epochs,H.history['val_loss'],label='validation_loss')\n",
        "plt.legend()\n",
        "plt.title(\"training vs validation loss\")"
      ],
      "metadata": {
        "colab": {
          "base_uri": "https://localhost:8080/",
          "height": 299
        },
        "id": "qoWswHjKpALq",
        "outputId": "8832c275-b951-4d74-d847-edf6cb7d6dd0"
      },
      "execution_count": 28,
      "outputs": [
        {
          "output_type": "execute_result",
          "data": {
            "text/plain": [
              "Text(0.5, 1.0, 'training vs validation loss')"
            ]
          },
          "metadata": {},
          "execution_count": 28
        },
        {
          "output_type": "display_data",
          "data": {
            "text/plain": [
              "<Figure size 432x288 with 1 Axes>"
            ],
            "image/png": "[encoded data removed]"
          },
          "metadata": {
            "needs_background": "light"
          }
        }
      ]
    },
    {
      "cell_type": "code",
      "source": [
        ""
      ],
      "metadata": {
        "id": "ZfyS9teopAD5"
      },
      "execution_count": null,
      "outputs": []
    },
    {
      "cell_type": "markdown",
      "source": [
        "Model is overfitting"
      ],
      "metadata": {
        "id": "Hxki37OxqcG3"
      }
    },
    {
      "cell_type": "markdown",
      "source": [
        "Adding L2 regularizer"
      ],
      "metadata": {
        "id": "fjZdnhG1s34Z"
      }
    },
    {
      "cell_type": "code",
      "source": [
        "#kernel_regularizer=tf.keras.regularizers.l2(0.1)\n"
      ],
      "metadata": {
        "id": "4syFoim4o_8T"
      },
      "execution_count": null,
      "outputs": []
    },
    {
      "cell_type": "code",
      "source": [
        "model = keras.Sequential([\n",
        "    keras.layers.Dense(80,input_dim=60,activation='relu',kernel_regularizer=tf.keras.regularizers.l2(0.1)),\n",
        "    keras.layers.Dense(30,activation='relu',kernel_regularizer=tf.keras.regularizers.l2(0.1)),\n",
        "    keras.layers.Dense(15,activation='relu'),\n",
        "    keras.layers.Dense(1,activation='sigmoid'),\n",
        "])\n",
        "model.compile(loss='binary_crossentropy',optimizer='adam',metrics=['accuracy'])\n",
        "H = model.fit(X_train,y_train,epochs=100,batch_size=8,validation_split=0.3)"
      ],
      "metadata": {
        "colab": {
          "base_uri": "https://localhost:8080/"
        },
        "id": "u-HBULlQrRwA",
        "outputId": "dda02573-7012-4597-9f72-6648b4675b92"
      },
      "execution_count": 34,
      "outputs": [
        {
          "output_type": "stream",
          "name": "stdout",
          "text": [
            "Epoch 1/100\n",
            "14/14 [==============================] - 2s 48ms/step - loss: 11.0372 - accuracy: 0.5505 - val_loss: 9.9564 - val_accuracy: 0.6596\n",
            "Epoch 2/100\n",
            "14/14 [==============================] - 0s 9ms/step - loss: 9.1565 - accuracy: 0.5688 - val_loss: 8.2410 - val_accuracy: 0.5745\n",
            "Epoch 3/100\n",
            "14/14 [==============================] - 0s 10ms/step - loss: 7.5714 - accuracy: 0.5872 - val_loss: 6.8079 - val_accuracy: 0.5745\n",
            "Epoch 4/100\n",
            "14/14 [==============================] - 0s 13ms/step - loss: 6.2562 - accuracy: 0.6422 - val_loss: 5.6285 - val_accuracy: 0.5745\n",
            "Epoch 5/100\n",
            "14/14 [==============================] - 0s 10ms/step - loss: 5.1754 - accuracy: 0.6239 - val_loss: 4.6607 - val_accuracy: 0.5532\n",
            "Epoch 6/100\n",
            "14/14 [==============================] - 0s 16ms/step - loss: 4.2881 - accuracy: 0.5596 - val_loss: 3.8687 - val_accuracy: 0.5532\n",
            "Epoch 7/100\n",
            "14/14 [==============================] - 0s 13ms/step - loss: 3.5657 - accuracy: 0.5780 - val_loss: 3.2246 - val_accuracy: 0.5532\n",
            "Epoch 8/100\n",
            "14/14 [==============================] - 0s 11ms/step - loss: 2.9775 - accuracy: 0.5872 - val_loss: 2.7014 - val_accuracy: 0.5745\n",
            "Epoch 9/100\n",
            "14/14 [==============================] - 0s 25ms/step - loss: 2.5042 - accuracy: 0.6972 - val_loss: 2.2795 - val_accuracy: 0.5745\n",
            "Epoch 10/100\n",
            "14/14 [==============================] - 0s 25ms/step - loss: 2.1180 - accuracy: 0.5505 - val_loss: 1.9392 - val_accuracy: 0.5319\n",
            "Epoch 11/100\n",
            "14/14 [==============================] - 0s 16ms/step - loss: 1.8113 - accuracy: 0.5413 - val_loss: 1.6665 - val_accuracy: 0.5319\n",
            "Epoch 12/100\n",
            "14/14 [==============================] - 0s 6ms/step - loss: 1.5641 - accuracy: 0.5872 - val_loss: 1.4501 - val_accuracy: 0.5532\n",
            "Epoch 13/100\n",
            "14/14 [==============================] - 0s 6ms/step - loss: 1.3681 - accuracy: 0.5413 - val_loss: 1.2772 - val_accuracy: 0.5319\n",
            "Epoch 14/100\n",
            "14/14 [==============================] - 0s 6ms/step - loss: 1.2120 - accuracy: 0.5596 - val_loss: 1.1431 - val_accuracy: 0.5745\n",
            "Epoch 15/100\n",
            "14/14 [==============================] - 0s 5ms/step - loss: 1.0909 - accuracy: 0.5872 - val_loss: 1.0361 - val_accuracy: 0.5319\n",
            "Epoch 16/100\n",
            "14/14 [==============================] - 0s 5ms/step - loss: 0.9956 - accuracy: 0.5413 - val_loss: 0.9544 - val_accuracy: 0.5319\n",
            "Epoch 17/100\n",
            "14/14 [==============================] - 0s 6ms/step - loss: 0.9229 - accuracy: 0.5780 - val_loss: 0.8901 - val_accuracy: 0.5319\n",
            "Epoch 18/100\n",
            "14/14 [==============================] - 0s 6ms/step - loss: 0.8659 - accuracy: 0.5688 - val_loss: 0.8401 - val_accuracy: 0.5319\n",
            "Epoch 19/100\n",
            "14/14 [==============================] - 0s 5ms/step - loss: 0.8245 - accuracy: 0.5413 - val_loss: 0.8027 - val_accuracy: 0.5319\n",
            "Epoch 20/100\n",
            "14/14 [==============================] - 0s 5ms/step - loss: 0.7905 - accuracy: 0.5413 - val_loss: 0.7741 - val_accuracy: 0.5319\n",
            "Epoch 21/100\n",
            "14/14 [==============================] - 0s 6ms/step - loss: 0.7646 - accuracy: 0.5688 - val_loss: 0.7523 - val_accuracy: 0.5319\n",
            "Epoch 22/100\n",
            "14/14 [==============================] - 0s 6ms/step - loss: 0.7434 - accuracy: 0.5413 - val_loss: 0.7352 - val_accuracy: 0.5319\n",
            "Epoch 23/100\n",
            "14/14 [==============================] - 0s 6ms/step - loss: 0.7298 - accuracy: 0.5413 - val_loss: 0.7231 - val_accuracy: 0.5319\n",
            "Epoch 24/100\n",
            "14/14 [==============================] - 0s 6ms/step - loss: 0.7191 - accuracy: 0.5413 - val_loss: 0.7139 - val_accuracy: 0.5319\n",
            "Epoch 25/100\n",
            "14/14 [==============================] - 0s 5ms/step - loss: 0.7118 - accuracy: 0.5413 - val_loss: 0.7083 - val_accuracy: 0.5745\n",
            "Epoch 26/100\n",
            "14/14 [==============================] - 0s 5ms/step - loss: 0.7086 - accuracy: 0.6606 - val_loss: 0.7022 - val_accuracy: 0.5745\n",
            "Epoch 27/100\n",
            "14/14 [==============================] - 0s 6ms/step - loss: 0.6995 - accuracy: 0.5413 - val_loss: 0.6988 - val_accuracy: 0.5319\n",
            "Epoch 28/100\n",
            "14/14 [==============================] - 0s 6ms/step - loss: 0.6971 - accuracy: 0.5413 - val_loss: 0.6950 - val_accuracy: 0.5319\n",
            "Epoch 29/100\n",
            "14/14 [==============================] - 0s 6ms/step - loss: 0.6997 - accuracy: 0.6422 - val_loss: 0.6950 - val_accuracy: 0.5957\n",
            "Epoch 30/100\n",
            "14/14 [==============================] - 0s 8ms/step - loss: 0.6959 - accuracy: 0.5505 - val_loss: 0.6930 - val_accuracy: 0.5319\n",
            "Epoch 31/100\n",
            "14/14 [==============================] - 0s 6ms/step - loss: 0.6917 - accuracy: 0.5413 - val_loss: 0.6904 - val_accuracy: 0.5319\n",
            "Epoch 32/100\n",
            "14/14 [==============================] - 0s 5ms/step - loss: 0.6930 - accuracy: 0.5872 - val_loss: 0.6905 - val_accuracy: 0.5745\n",
            "Epoch 33/100\n",
            "14/14 [==============================] - 0s 5ms/step - loss: 0.6890 - accuracy: 0.5505 - val_loss: 0.6885 - val_accuracy: 0.5319\n",
            "Epoch 34/100\n",
            "14/14 [==============================] - 0s 6ms/step - loss: 0.6880 - accuracy: 0.5413 - val_loss: 0.6870 - val_accuracy: 0.5319\n",
            "Epoch 35/100\n",
            "14/14 [==============================] - 0s 6ms/step - loss: 0.6877 - accuracy: 0.6055 - val_loss: 0.6857 - val_accuracy: 0.5745\n",
            "Epoch 36/100\n",
            "14/14 [==============================] - 0s 7ms/step - loss: 0.6889 - accuracy: 0.5780 - val_loss: 0.6832 - val_accuracy: 0.5745\n",
            "Epoch 37/100\n",
            "14/14 [==============================] - 0s 6ms/step - loss: 0.6871 - accuracy: 0.6147 - val_loss: 0.6858 - val_accuracy: 0.7447\n",
            "Epoch 38/100\n",
            "14/14 [==============================] - 0s 6ms/step - loss: 0.6862 - accuracy: 0.6055 - val_loss: 0.6816 - val_accuracy: 0.5745\n",
            "Epoch 39/100\n",
            "14/14 [==============================] - 0s 6ms/step - loss: 0.6821 - accuracy: 0.6239 - val_loss: 0.6798 - val_accuracy: 0.6596\n",
            "Epoch 40/100\n",
            "14/14 [==============================] - 0s 7ms/step - loss: 0.6844 - accuracy: 0.6514 - val_loss: 0.6780 - val_accuracy: 0.6596\n",
            "Epoch 41/100\n",
            "14/14 [==============================] - 0s 7ms/step - loss: 0.6925 - accuracy: 0.5505 - val_loss: 0.6770 - val_accuracy: 0.6383\n",
            "Epoch 42/100\n",
            "14/14 [==============================] - 0s 6ms/step - loss: 0.6860 - accuracy: 0.6972 - val_loss: 0.6795 - val_accuracy: 0.5745\n",
            "Epoch 43/100\n",
            "14/14 [==============================] - 0s 6ms/step - loss: 0.6871 - accuracy: 0.6239 - val_loss: 0.6764 - val_accuracy: 0.6383\n",
            "Epoch 44/100\n",
            "14/14 [==============================] - 0s 5ms/step - loss: 0.6871 - accuracy: 0.5505 - val_loss: 0.6740 - val_accuracy: 0.5745\n",
            "Epoch 45/100\n",
            "14/14 [==============================] - 0s 5ms/step - loss: 0.6824 - accuracy: 0.6422 - val_loss: 0.6748 - val_accuracy: 0.7872\n",
            "Epoch 46/100\n",
            "14/14 [==============================] - 0s 6ms/step - loss: 0.6815 - accuracy: 0.6789 - val_loss: 0.6698 - val_accuracy: 0.5745\n",
            "Epoch 47/100\n",
            "14/14 [==============================] - 0s 6ms/step - loss: 0.6945 - accuracy: 0.5688 - val_loss: 0.6745 - val_accuracy: 0.7660\n",
            "Epoch 48/100\n",
            "14/14 [==============================] - 0s 6ms/step - loss: 0.6828 - accuracy: 0.6789 - val_loss: 0.6679 - val_accuracy: 0.6596\n",
            "Epoch 49/100\n",
            "14/14 [==============================] - 0s 5ms/step - loss: 0.6691 - accuracy: 0.6697 - val_loss: 0.6606 - val_accuracy: 0.7872\n",
            "Epoch 50/100\n",
            "14/14 [==============================] - 0s 7ms/step - loss: 0.6695 - accuracy: 0.7523 - val_loss: 0.6724 - val_accuracy: 0.5745\n",
            "Epoch 51/100\n",
            "14/14 [==============================] - 0s 5ms/step - loss: 0.6666 - accuracy: 0.6055 - val_loss: 0.6654 - val_accuracy: 0.7872\n",
            "Epoch 52/100\n",
            "14/14 [==============================] - 0s 7ms/step - loss: 0.6607 - accuracy: 0.7798 - val_loss: 0.6552 - val_accuracy: 0.6170\n",
            "Epoch 53/100\n",
            "14/14 [==============================] - 0s 5ms/step - loss: 0.6651 - accuracy: 0.6239 - val_loss: 0.6432 - val_accuracy: 0.7872\n",
            "Epoch 54/100\n",
            "14/14 [==============================] - 0s 7ms/step - loss: 0.6483 - accuracy: 0.7706 - val_loss: 0.6367 - val_accuracy: 0.8298\n",
            "Epoch 55/100\n",
            "14/14 [==============================] - 0s 7ms/step - loss: 0.6402 - accuracy: 0.7523 - val_loss: 0.6275 - val_accuracy: 0.7872\n",
            "Epoch 56/100\n",
            "14/14 [==============================] - 0s 8ms/step - loss: 0.6343 - accuracy: 0.7248 - val_loss: 0.6178 - val_accuracy: 0.8511\n",
            "Epoch 57/100\n",
            "14/14 [==============================] - 0s 6ms/step - loss: 0.6321 - accuracy: 0.7706 - val_loss: 0.6158 - val_accuracy: 0.7660\n",
            "Epoch 58/100\n",
            "14/14 [==============================] - 0s 7ms/step - loss: 0.6190 - accuracy: 0.7615 - val_loss: 0.6095 - val_accuracy: 0.8511\n",
            "Epoch 59/100\n",
            "14/14 [==============================] - 0s 6ms/step - loss: 0.6084 - accuracy: 0.8257 - val_loss: 0.6262 - val_accuracy: 0.7447\n",
            "Epoch 60/100\n",
            "14/14 [==============================] - 0s 6ms/step - loss: 0.6676 - accuracy: 0.6789 - val_loss: 0.6113 - val_accuracy: 0.7660\n",
            "Epoch 61/100\n",
            "14/14 [==============================] - 0s 5ms/step - loss: 0.6094 - accuracy: 0.7890 - val_loss: 0.6024 - val_accuracy: 0.8298\n",
            "Epoch 62/100\n",
            "14/14 [==============================] - 0s 8ms/step - loss: 0.6112 - accuracy: 0.7706 - val_loss: 0.5886 - val_accuracy: 0.8298\n",
            "Epoch 63/100\n",
            "14/14 [==============================] - 0s 5ms/step - loss: 0.6964 - accuracy: 0.6422 - val_loss: 0.6635 - val_accuracy: 0.6383\n",
            "Epoch 64/100\n",
            "14/14 [==============================] - 0s 6ms/step - loss: 0.6253 - accuracy: 0.7615 - val_loss: 0.5857 - val_accuracy: 0.8298\n",
            "Epoch 65/100\n",
            "14/14 [==============================] - 0s 6ms/step - loss: 0.6148 - accuracy: 0.7706 - val_loss: 0.5816 - val_accuracy: 0.7872\n",
            "Epoch 66/100\n",
            "14/14 [==============================] - 0s 7ms/step - loss: 0.6246 - accuracy: 0.7339 - val_loss: 0.6488 - val_accuracy: 0.7021\n",
            "Epoch 67/100\n",
            "14/14 [==============================] - 0s 6ms/step - loss: 0.6000 - accuracy: 0.7615 - val_loss: 0.5828 - val_accuracy: 0.8298\n",
            "Epoch 68/100\n",
            "14/14 [==============================] - 0s 6ms/step - loss: 0.5776 - accuracy: 0.8257 - val_loss: 0.5689 - val_accuracy: 0.8511\n",
            "Epoch 69/100\n",
            "14/14 [==============================] - 0s 6ms/step - loss: 0.5754 - accuracy: 0.8257 - val_loss: 0.5794 - val_accuracy: 0.7447\n",
            "Epoch 70/100\n",
            "14/14 [==============================] - 0s 6ms/step - loss: 0.5801 - accuracy: 0.8073 - val_loss: 0.6128 - val_accuracy: 0.8298\n",
            "Epoch 71/100\n",
            "14/14 [==============================] - 0s 6ms/step - loss: 0.5568 - accuracy: 0.8349 - val_loss: 0.6108 - val_accuracy: 0.8511\n",
            "Epoch 72/100\n",
            "14/14 [==============================] - 0s 6ms/step - loss: 0.5688 - accuracy: 0.7798 - val_loss: 0.6326 - val_accuracy: 0.8085\n",
            "Epoch 73/100\n",
            "14/14 [==============================] - 0s 7ms/step - loss: 0.5473 - accuracy: 0.8073 - val_loss: 0.5928 - val_accuracy: 0.8298\n",
            "Epoch 74/100\n",
            "14/14 [==============================] - 0s 6ms/step - loss: 0.5666 - accuracy: 0.8349 - val_loss: 0.5507 - val_accuracy: 0.8085\n",
            "Epoch 75/100\n",
            "14/14 [==============================] - 0s 6ms/step - loss: 0.5562 - accuracy: 0.7982 - val_loss: 0.5699 - val_accuracy: 0.8298\n",
            "Epoch 76/100\n",
            "14/14 [==============================] - 0s 5ms/step - loss: 0.5378 - accuracy: 0.8440 - val_loss: 0.5659 - val_accuracy: 0.8298\n",
            "Epoch 77/100\n",
            "14/14 [==============================] - 0s 6ms/step - loss: 0.5314 - accuracy: 0.8532 - val_loss: 0.5749 - val_accuracy: 0.8298\n",
            "Epoch 78/100\n",
            "14/14 [==============================] - 0s 6ms/step - loss: 0.5287 - accuracy: 0.8257 - val_loss: 0.5786 - val_accuracy: 0.8298\n",
            "Epoch 79/100\n",
            "14/14 [==============================] - 0s 5ms/step - loss: 0.5293 - accuracy: 0.8440 - val_loss: 0.5616 - val_accuracy: 0.8298\n",
            "Epoch 80/100\n",
            "14/14 [==============================] - 0s 5ms/step - loss: 0.5213 - accuracy: 0.8165 - val_loss: 0.5570 - val_accuracy: 0.8511\n",
            "Epoch 81/100\n",
            "14/14 [==============================] - 0s 6ms/step - loss: 0.5170 - accuracy: 0.8807 - val_loss: 0.5725 - val_accuracy: 0.8298\n",
            "Epoch 82/100\n",
            "14/14 [==============================] - 0s 5ms/step - loss: 0.5022 - accuracy: 0.8532 - val_loss: 0.5781 - val_accuracy: 0.8298\n",
            "Epoch 83/100\n",
            "14/14 [==============================] - 0s 6ms/step - loss: 0.5240 - accuracy: 0.8440 - val_loss: 0.5660 - val_accuracy: 0.8298\n",
            "Epoch 84/100\n",
            "14/14 [==============================] - 0s 5ms/step - loss: 0.5086 - accuracy: 0.8807 - val_loss: 0.6179 - val_accuracy: 0.8511\n",
            "Epoch 85/100\n",
            "14/14 [==============================] - 0s 6ms/step - loss: 0.4898 - accuracy: 0.8807 - val_loss: 0.5788 - val_accuracy: 0.8298\n",
            "Epoch 86/100\n",
            "14/14 [==============================] - 0s 7ms/step - loss: 0.4961 - accuracy: 0.8532 - val_loss: 0.5997 - val_accuracy: 0.8298\n",
            "Epoch 87/100\n",
            "14/14 [==============================] - 0s 6ms/step - loss: 0.4846 - accuracy: 0.8716 - val_loss: 0.5600 - val_accuracy: 0.8511\n",
            "Epoch 88/100\n",
            "14/14 [==============================] - 0s 5ms/step - loss: 0.4852 - accuracy: 0.8899 - val_loss: 0.5977 - val_accuracy: 0.8298\n",
            "Epoch 89/100\n",
            "14/14 [==============================] - 0s 6ms/step - loss: 0.5411 - accuracy: 0.8165 - val_loss: 0.6459 - val_accuracy: 0.8085\n",
            "Epoch 90/100\n",
            "14/14 [==============================] - 0s 5ms/step - loss: 0.5083 - accuracy: 0.8073 - val_loss: 0.6764 - val_accuracy: 0.7872\n",
            "Epoch 91/100\n",
            "14/14 [==============================] - 0s 6ms/step - loss: 0.5725 - accuracy: 0.7798 - val_loss: 0.5451 - val_accuracy: 0.8085\n",
            "Epoch 92/100\n",
            "14/14 [==============================] - 0s 5ms/step - loss: 0.5058 - accuracy: 0.8624 - val_loss: 0.5476 - val_accuracy: 0.8511\n",
            "Epoch 93/100\n",
            "14/14 [==============================] - 0s 5ms/step - loss: 0.4785 - accuracy: 0.8716 - val_loss: 0.6147 - val_accuracy: 0.8298\n",
            "Epoch 94/100\n",
            "14/14 [==============================] - 0s 6ms/step - loss: 0.4830 - accuracy: 0.8899 - val_loss: 0.5610 - val_accuracy: 0.8511\n",
            "Epoch 95/100\n",
            "14/14 [==============================] - 0s 7ms/step - loss: 0.5134 - accuracy: 0.8257 - val_loss: 0.5714 - val_accuracy: 0.8298\n",
            "Epoch 96/100\n",
            "14/14 [==============================] - 0s 7ms/step - loss: 0.5422 - accuracy: 0.8073 - val_loss: 0.5867 - val_accuracy: 0.7234\n",
            "Epoch 97/100\n",
            "14/14 [==============================] - 0s 6ms/step - loss: 0.5627 - accuracy: 0.7982 - val_loss: 0.5591 - val_accuracy: 0.8511\n",
            "Epoch 98/100\n",
            "14/14 [==============================] - 0s 6ms/step - loss: 0.5722 - accuracy: 0.7615 - val_loss: 0.6382 - val_accuracy: 0.8085\n",
            "Epoch 99/100\n",
            "14/14 [==============================] - 0s 6ms/step - loss: 0.5071 - accuracy: 0.8624 - val_loss: 0.5819 - val_accuracy: 0.8298\n",
            "Epoch 100/100\n",
            "14/14 [==============================] - 0s 6ms/step - loss: 0.4888 - accuracy: 0.8532 - val_loss: 0.5528 - val_accuracy: 0.8085\n"
          ]
        }
      ]
    },
    {
      "cell_type": "code",
      "source": [
        "epochs = np.arange(0,len(H.history['loss']))\n",
        "\n",
        "plt.plot(epochs,H.history['loss'],label='train_loss',c='red')\n",
        "plt.plot(epochs,H.history['val_loss'],label='validation_loss')\n",
        "plt.legend()\n",
        "plt.title(\"training vs validation loss\")"
      ],
      "metadata": {
        "colab": {
          "base_uri": "https://localhost:8080/",
          "height": 299
        },
        "id": "-2Q2StByo_sW",
        "outputId": "477b86ef-f0ac-46cb-9517-a78597851ecb"
      },
      "execution_count": 35,
      "outputs": [
        {
          "output_type": "execute_result",
          "data": {
            "text/plain": [
              "Text(0.5, 1.0, 'training vs validation loss')"
            ]
          },
          "metadata": {},
          "execution_count": 35
        },
        {
          "output_type": "display_data",
          "data": {
            "text/plain": [
              "<Figure size 432x288 with 1 Axes>"
            ],
            "image/png": "[encoded data removed]"
          },
          "metadata": {
            "needs_background": "light"
          }
        }
      ]
    },
    {
      "cell_type": "code",
      "source": [
        ""
      ],
      "metadata": {
        "id": "q3IIGxt_o_bq"
      },
      "execution_count": null,
      "outputs": []
    },
    {
      "cell_type": "markdown",
      "source": [
        "Adding dropout layer with L2 regularizer"
      ],
      "metadata": {
        "id": "XJVP-83Xs_5I"
      }
    },
    {
      "cell_type": "code",
      "source": [
        "#kernel_regularizer=tf.keras.regularizers.l2(0.1)\n",
        "\n",
        "model = keras.Sequential([\n",
        "    keras.layers.Dense(80, input_dim=60, activation='relu',kernel_regularizer=tf.keras.regularizers.l2(0.1)),\n",
        "    keras.layers.Dropout(0.1),\n",
        "    keras.layers.Dense(30, activation='relu'),\n",
        "    \n",
        "    keras.layers.Dense(15, activation='relu'),\n",
        "    \n",
        "    keras.layers.Dense(1, activation='sigmoid')\n",
        "])\n",
        "\n",
        "model.compile(loss='binary_crossentropy', optimizer='adam', metrics=['accuracy'])\n",
        "\n",
        "H = model.fit(X_train, y_train, epochs=100, batch_size=8, validation_split=0.3)"
      ],
      "metadata": {
        "colab": {
          "base_uri": "https://localhost:8080/"
        },
        "id": "O5DrwPp8o_TU",
        "outputId": "fc29b208-271e-4e71-da7c-03983ca447d8"
      },
      "execution_count": 38,
      "outputs": [
        {
          "output_type": "stream",
          "name": "stdout",
          "text": [
            "Epoch 1/100\n",
            "14/14 [==============================] - 2s 24ms/step - loss: 6.8665 - accuracy: 0.4862 - val_loss: 6.1795 - val_accuracy: 0.5532\n",
            "Epoch 2/100\n",
            "14/14 [==============================] - 0s 5ms/step - loss: 5.6914 - accuracy: 0.5872 - val_loss: 5.1298 - val_accuracy: 0.5957\n",
            "Epoch 3/100\n",
            "14/14 [==============================] - 0s 5ms/step - loss: 4.7216 - accuracy: 0.6147 - val_loss: 4.2626 - val_accuracy: 0.5745\n",
            "Epoch 4/100\n",
            "14/14 [==============================] - 0s 6ms/step - loss: 3.9200 - accuracy: 0.6239 - val_loss: 3.5472 - val_accuracy: 0.6170\n",
            "Epoch 5/100\n",
            "14/14 [==============================] - 0s 7ms/step - loss: 3.2791 - accuracy: 0.5321 - val_loss: 2.9679 - val_accuracy: 0.6170\n",
            "Epoch 6/100\n",
            "14/14 [==============================] - 0s 6ms/step - loss: 2.7443 - accuracy: 0.5413 - val_loss: 2.4978 - val_accuracy: 0.5957\n",
            "Epoch 7/100\n",
            "14/14 [==============================] - 0s 7ms/step - loss: 2.3112 - accuracy: 0.6422 - val_loss: 2.1162 - val_accuracy: 0.6596\n",
            "Epoch 8/100\n",
            "14/14 [==============================] - 0s 6ms/step - loss: 1.9626 - accuracy: 0.6147 - val_loss: 1.8059 - val_accuracy: 0.6170\n",
            "Epoch 9/100\n",
            "14/14 [==============================] - 0s 5ms/step - loss: 1.6915 - accuracy: 0.6422 - val_loss: 1.5607 - val_accuracy: 0.6170\n",
            "Epoch 10/100\n",
            "14/14 [==============================] - 0s 6ms/step - loss: 1.4659 - accuracy: 0.6606 - val_loss: 1.3618 - val_accuracy: 0.6596\n",
            "Epoch 11/100\n",
            "14/14 [==============================] - 0s 5ms/step - loss: 1.2860 - accuracy: 0.5963 - val_loss: 1.2055 - val_accuracy: 0.7021\n",
            "Epoch 12/100\n",
            "14/14 [==============================] - 0s 7ms/step - loss: 1.1417 - accuracy: 0.6881 - val_loss: 1.0816 - val_accuracy: 0.7234\n",
            "Epoch 13/100\n",
            "14/14 [==============================] - 0s 5ms/step - loss: 1.0348 - accuracy: 0.6972 - val_loss: 0.9795 - val_accuracy: 0.7021\n",
            "Epoch 14/100\n",
            "14/14 [==============================] - 0s 7ms/step - loss: 0.9429 - accuracy: 0.6422 - val_loss: 0.8970 - val_accuracy: 0.7660\n",
            "Epoch 15/100\n",
            "14/14 [==============================] - 0s 5ms/step - loss: 0.8712 - accuracy: 0.6881 - val_loss: 0.8322 - val_accuracy: 0.7447\n",
            "Epoch 16/100\n",
            "14/14 [==============================] - 0s 5ms/step - loss: 0.8062 - accuracy: 0.7248 - val_loss: 0.7738 - val_accuracy: 0.7872\n",
            "Epoch 17/100\n",
            "14/14 [==============================] - 0s 6ms/step - loss: 0.7717 - accuracy: 0.7064 - val_loss: 0.7294 - val_accuracy: 0.7872\n",
            "Epoch 18/100\n",
            "14/14 [==============================] - 0s 6ms/step - loss: 0.7257 - accuracy: 0.7431 - val_loss: 0.7377 - val_accuracy: 0.5745\n",
            "Epoch 19/100\n",
            "14/14 [==============================] - 0s 6ms/step - loss: 0.7290 - accuracy: 0.6239 - val_loss: 0.6682 - val_accuracy: 0.7872\n",
            "Epoch 20/100\n",
            "14/14 [==============================] - 0s 5ms/step - loss: 0.6581 - accuracy: 0.7890 - val_loss: 0.6343 - val_accuracy: 0.8511\n",
            "Epoch 21/100\n",
            "14/14 [==============================] - 0s 6ms/step - loss: 0.6273 - accuracy: 0.7798 - val_loss: 0.6640 - val_accuracy: 0.6809\n",
            "Epoch 22/100\n",
            "14/14 [==============================] - 0s 5ms/step - loss: 0.6347 - accuracy: 0.7523 - val_loss: 0.5873 - val_accuracy: 0.8511\n",
            "Epoch 23/100\n",
            "14/14 [==============================] - 0s 5ms/step - loss: 0.5817 - accuracy: 0.7982 - val_loss: 0.5678 - val_accuracy: 0.8298\n",
            "Epoch 24/100\n",
            "14/14 [==============================] - 0s 6ms/step - loss: 0.5554 - accuracy: 0.8349 - val_loss: 0.5672 - val_accuracy: 0.8298\n",
            "Epoch 25/100\n",
            "14/14 [==============================] - 0s 6ms/step - loss: 0.5399 - accuracy: 0.7798 - val_loss: 0.5392 - val_accuracy: 0.8298\n",
            "Epoch 26/100\n",
            "14/14 [==============================] - 0s 6ms/step - loss: 0.5598 - accuracy: 0.7706 - val_loss: 0.5258 - val_accuracy: 0.8298\n",
            "Epoch 27/100\n",
            "14/14 [==============================] - 0s 5ms/step - loss: 0.5611 - accuracy: 0.7339 - val_loss: 0.5321 - val_accuracy: 0.8085\n",
            "Epoch 28/100\n",
            "14/14 [==============================] - 0s 8ms/step - loss: 0.5038 - accuracy: 0.8257 - val_loss: 0.5243 - val_accuracy: 0.8298\n",
            "Epoch 29/100\n",
            "14/14 [==============================] - 0s 5ms/step - loss: 0.5431 - accuracy: 0.7706 - val_loss: 0.5277 - val_accuracy: 0.8298\n",
            "Epoch 30/100\n",
            "14/14 [==============================] - 0s 6ms/step - loss: 0.5703 - accuracy: 0.7706 - val_loss: 0.6086 - val_accuracy: 0.7872\n",
            "Epoch 31/100\n",
            "14/14 [==============================] - 0s 5ms/step - loss: 0.5062 - accuracy: 0.8165 - val_loss: 0.6264 - val_accuracy: 0.7447\n",
            "Epoch 32/100\n",
            "14/14 [==============================] - 0s 6ms/step - loss: 0.5273 - accuracy: 0.7890 - val_loss: 0.5777 - val_accuracy: 0.8298\n",
            "Epoch 33/100\n",
            "14/14 [==============================] - 0s 6ms/step - loss: 0.5382 - accuracy: 0.7982 - val_loss: 0.5266 - val_accuracy: 0.7872\n",
            "Epoch 34/100\n",
            "14/14 [==============================] - 0s 6ms/step - loss: 0.4948 - accuracy: 0.7982 - val_loss: 0.5262 - val_accuracy: 0.8085\n",
            "Epoch 35/100\n",
            "14/14 [==============================] - 0s 7ms/step - loss: 0.4540 - accuracy: 0.8349 - val_loss: 0.5053 - val_accuracy: 0.8511\n",
            "Epoch 36/100\n",
            "14/14 [==============================] - 0s 6ms/step - loss: 0.5006 - accuracy: 0.8257 - val_loss: 0.5065 - val_accuracy: 0.8298\n",
            "Epoch 37/100\n",
            "14/14 [==============================] - 0s 5ms/step - loss: 0.5073 - accuracy: 0.7798 - val_loss: 0.5072 - val_accuracy: 0.8511\n",
            "Epoch 38/100\n",
            "14/14 [==============================] - 0s 7ms/step - loss: 0.4555 - accuracy: 0.8532 - val_loss: 0.5463 - val_accuracy: 0.8511\n",
            "Epoch 39/100\n",
            "14/14 [==============================] - 0s 5ms/step - loss: 0.4683 - accuracy: 0.8165 - val_loss: 0.5762 - val_accuracy: 0.8085\n",
            "Epoch 40/100\n",
            "14/14 [==============================] - 0s 6ms/step - loss: 0.4570 - accuracy: 0.8073 - val_loss: 0.5764 - val_accuracy: 0.7872\n",
            "Epoch 41/100\n",
            "14/14 [==============================] - 0s 7ms/step - loss: 0.5210 - accuracy: 0.7523 - val_loss: 0.6233 - val_accuracy: 0.8085\n",
            "Epoch 42/100\n",
            "14/14 [==============================] - 0s 7ms/step - loss: 0.4467 - accuracy: 0.8440 - val_loss: 0.5431 - val_accuracy: 0.7872\n",
            "Epoch 43/100\n",
            "14/14 [==============================] - 0s 5ms/step - loss: 0.4221 - accuracy: 0.8624 - val_loss: 0.5148 - val_accuracy: 0.8298\n",
            "Epoch 44/100\n",
            "14/14 [==============================] - 0s 6ms/step - loss: 0.4238 - accuracy: 0.8624 - val_loss: 0.5164 - val_accuracy: 0.8298\n",
            "Epoch 45/100\n",
            "14/14 [==============================] - 0s 7ms/step - loss: 0.4542 - accuracy: 0.8257 - val_loss: 0.5533 - val_accuracy: 0.8085\n",
            "Epoch 46/100\n",
            "14/14 [==============================] - 0s 5ms/step - loss: 0.4469 - accuracy: 0.8440 - val_loss: 0.5190 - val_accuracy: 0.8298\n",
            "Epoch 47/100\n",
            "14/14 [==============================] - 0s 6ms/step - loss: 0.5686 - accuracy: 0.7431 - val_loss: 0.5653 - val_accuracy: 0.8085\n",
            "Epoch 48/100\n",
            "14/14 [==============================] - 0s 7ms/step - loss: 0.4864 - accuracy: 0.7982 - val_loss: 0.5329 - val_accuracy: 0.8085\n",
            "Epoch 49/100\n",
            "14/14 [==============================] - 0s 6ms/step - loss: 0.5154 - accuracy: 0.7798 - val_loss: 0.4932 - val_accuracy: 0.8511\n",
            "Epoch 50/100\n",
            "14/14 [==============================] - 0s 8ms/step - loss: 0.5095 - accuracy: 0.7890 - val_loss: 0.5420 - val_accuracy: 0.7872\n",
            "Epoch 51/100\n",
            "14/14 [==============================] - 0s 7ms/step - loss: 0.4297 - accuracy: 0.8624 - val_loss: 0.5121 - val_accuracy: 0.8511\n",
            "Epoch 52/100\n",
            "14/14 [==============================] - 0s 5ms/step - loss: 0.3892 - accuracy: 0.8624 - val_loss: 0.5184 - val_accuracy: 0.8298\n",
            "Epoch 53/100\n",
            "14/14 [==============================] - 0s 6ms/step - loss: 0.4199 - accuracy: 0.8349 - val_loss: 0.5433 - val_accuracy: 0.8298\n",
            "Epoch 54/100\n",
            "14/14 [==============================] - 0s 7ms/step - loss: 0.4065 - accuracy: 0.8899 - val_loss: 0.5674 - val_accuracy: 0.8085\n",
            "Epoch 55/100\n",
            "14/14 [==============================] - 0s 6ms/step - loss: 0.4143 - accuracy: 0.8716 - val_loss: 0.5037 - val_accuracy: 0.8298\n",
            "Epoch 56/100\n",
            "14/14 [==============================] - 0s 5ms/step - loss: 0.4095 - accuracy: 0.8532 - val_loss: 0.5942 - val_accuracy: 0.8298\n",
            "Epoch 57/100\n",
            "14/14 [==============================] - 0s 6ms/step - loss: 0.4863 - accuracy: 0.8257 - val_loss: 0.5988 - val_accuracy: 0.8298\n",
            "Epoch 58/100\n",
            "14/14 [==============================] - 0s 5ms/step - loss: 0.4989 - accuracy: 0.7523 - val_loss: 0.6091 - val_accuracy: 0.8085\n",
            "Epoch 59/100\n",
            "14/14 [==============================] - 0s 6ms/step - loss: 0.4243 - accuracy: 0.8716 - val_loss: 0.5341 - val_accuracy: 0.8085\n",
            "Epoch 60/100\n",
            "14/14 [==============================] - 0s 5ms/step - loss: 0.3715 - accuracy: 0.8716 - val_loss: 0.5375 - val_accuracy: 0.8298\n",
            "Epoch 61/100\n",
            "14/14 [==============================] - 0s 9ms/step - loss: 0.4435 - accuracy: 0.8532 - val_loss: 0.5132 - val_accuracy: 0.8298\n",
            "Epoch 62/100\n",
            "14/14 [==============================] - 0s 5ms/step - loss: 0.4346 - accuracy: 0.8532 - val_loss: 0.5541 - val_accuracy: 0.8085\n",
            "Epoch 63/100\n",
            "14/14 [==============================] - 0s 6ms/step - loss: 0.3835 - accuracy: 0.8807 - val_loss: 0.5557 - val_accuracy: 0.8085\n",
            "Epoch 64/100\n",
            "14/14 [==============================] - 0s 6ms/step - loss: 0.3802 - accuracy: 0.8991 - val_loss: 0.6353 - val_accuracy: 0.8085\n",
            "Epoch 65/100\n",
            "14/14 [==============================] - 0s 6ms/step - loss: 0.3893 - accuracy: 0.8807 - val_loss: 0.5222 - val_accuracy: 0.8511\n",
            "Epoch 66/100\n",
            "14/14 [==============================] - 0s 6ms/step - loss: 0.3481 - accuracy: 0.9174 - val_loss: 0.5489 - val_accuracy: 0.8298\n",
            "Epoch 67/100\n",
            "14/14 [==============================] - 0s 7ms/step - loss: 0.3564 - accuracy: 0.9174 - val_loss: 0.5181 - val_accuracy: 0.8298\n",
            "Epoch 68/100\n",
            "14/14 [==============================] - 0s 6ms/step - loss: 0.3399 - accuracy: 0.9083 - val_loss: 0.5493 - val_accuracy: 0.8298\n",
            "Epoch 69/100\n",
            "14/14 [==============================] - 0s 5ms/step - loss: 0.3375 - accuracy: 0.9266 - val_loss: 0.5142 - val_accuracy: 0.8511\n",
            "Epoch 70/100\n",
            "14/14 [==============================] - 0s 5ms/step - loss: 0.3169 - accuracy: 0.9266 - val_loss: 0.5336 - val_accuracy: 0.8298\n",
            "Epoch 71/100\n",
            "14/14 [==============================] - 0s 7ms/step - loss: 0.3411 - accuracy: 0.9083 - val_loss: 0.5109 - val_accuracy: 0.8511\n",
            "Epoch 72/100\n",
            "14/14 [==============================] - 0s 6ms/step - loss: 0.3290 - accuracy: 0.9083 - val_loss: 0.5314 - val_accuracy: 0.8298\n",
            "Epoch 73/100\n",
            "14/14 [==============================] - 0s 6ms/step - loss: 0.3631 - accuracy: 0.8899 - val_loss: 0.5038 - val_accuracy: 0.8511\n",
            "Epoch 74/100\n",
            "14/14 [==============================] - 0s 5ms/step - loss: 0.3102 - accuracy: 0.9358 - val_loss: 0.5193 - val_accuracy: 0.8298\n",
            "Epoch 75/100\n",
            "14/14 [==============================] - 0s 5ms/step - loss: 0.2933 - accuracy: 0.9541 - val_loss: 0.5065 - val_accuracy: 0.8511\n",
            "Epoch 76/100\n",
            "14/14 [==============================] - 0s 6ms/step - loss: 0.3107 - accuracy: 0.9083 - val_loss: 0.5279 - val_accuracy: 0.8298\n",
            "Epoch 77/100\n",
            "14/14 [==============================] - 0s 6ms/step - loss: 0.3788 - accuracy: 0.8716 - val_loss: 0.5676 - val_accuracy: 0.7872\n",
            "Epoch 78/100\n",
            "14/14 [==============================] - 0s 5ms/step - loss: 0.3288 - accuracy: 0.8991 - val_loss: 0.5268 - val_accuracy: 0.8511\n",
            "Epoch 79/100\n",
            "14/14 [==============================] - 0s 6ms/step - loss: 0.3129 - accuracy: 0.9450 - val_loss: 0.5434 - val_accuracy: 0.8511\n",
            "Epoch 80/100\n",
            "14/14 [==============================] - 0s 6ms/step - loss: 0.2952 - accuracy: 0.9450 - val_loss: 0.5481 - val_accuracy: 0.8085\n",
            "Epoch 81/100\n",
            "14/14 [==============================] - 0s 6ms/step - loss: 0.3003 - accuracy: 0.9174 - val_loss: 0.5282 - val_accuracy: 0.8723\n",
            "Epoch 82/100\n",
            "14/14 [==============================] - 0s 8ms/step - loss: 0.3037 - accuracy: 0.9266 - val_loss: 0.5316 - val_accuracy: 0.8511\n",
            "Epoch 83/100\n",
            "14/14 [==============================] - 0s 6ms/step - loss: 0.3235 - accuracy: 0.8899 - val_loss: 0.5424 - val_accuracy: 0.8298\n",
            "Epoch 84/100\n",
            "14/14 [==============================] - 0s 6ms/step - loss: 0.3158 - accuracy: 0.9174 - val_loss: 0.5385 - val_accuracy: 0.8511\n",
            "Epoch 85/100\n",
            "14/14 [==============================] - 0s 7ms/step - loss: 0.3155 - accuracy: 0.9174 - val_loss: 0.5414 - val_accuracy: 0.8085\n",
            "Epoch 86/100\n",
            "14/14 [==============================] - 0s 5ms/step - loss: 0.2944 - accuracy: 0.9174 - val_loss: 0.5630 - val_accuracy: 0.8085\n",
            "Epoch 87/100\n",
            "14/14 [==============================] - 0s 5ms/step - loss: 0.2598 - accuracy: 0.9266 - val_loss: 0.5463 - val_accuracy: 0.8298\n",
            "Epoch 88/100\n",
            "14/14 [==============================] - 0s 6ms/step - loss: 0.2463 - accuracy: 0.9541 - val_loss: 0.5907 - val_accuracy: 0.8085\n",
            "Epoch 89/100\n",
            "14/14 [==============================] - 0s 6ms/step - loss: 0.2715 - accuracy: 0.9450 - val_loss: 0.5621 - val_accuracy: 0.8085\n",
            "Epoch 90/100\n",
            "14/14 [==============================] - 0s 6ms/step - loss: 0.2703 - accuracy: 0.9266 - val_loss: 0.5525 - val_accuracy: 0.8511\n",
            "Epoch 91/100\n",
            "14/14 [==============================] - 0s 6ms/step - loss: 0.2366 - accuracy: 0.9633 - val_loss: 0.5542 - val_accuracy: 0.8511\n",
            "Epoch 92/100\n",
            "14/14 [==============================] - 0s 5ms/step - loss: 0.2323 - accuracy: 0.9725 - val_loss: 0.6054 - val_accuracy: 0.8298\n",
            "Epoch 93/100\n",
            "14/14 [==============================] - 0s 6ms/step - loss: 0.3119 - accuracy: 0.8991 - val_loss: 0.5431 - val_accuracy: 0.8511\n",
            "Epoch 94/100\n",
            "14/14 [==============================] - 0s 6ms/step - loss: 0.2575 - accuracy: 0.9541 - val_loss: 0.5232 - val_accuracy: 0.8511\n",
            "Epoch 95/100\n",
            "14/14 [==============================] - 0s 8ms/step - loss: 0.2658 - accuracy: 0.9450 - val_loss: 0.5581 - val_accuracy: 0.8511\n",
            "Epoch 96/100\n",
            "14/14 [==============================] - 0s 5ms/step - loss: 0.2325 - accuracy: 0.9633 - val_loss: 0.5992 - val_accuracy: 0.8085\n",
            "Epoch 97/100\n",
            "14/14 [==============================] - 0s 6ms/step - loss: 0.3303 - accuracy: 0.8624 - val_loss: 0.5324 - val_accuracy: 0.8511\n",
            "Epoch 98/100\n",
            "14/14 [==============================] - 0s 6ms/step - loss: 0.3756 - accuracy: 0.8716 - val_loss: 0.5541 - val_accuracy: 0.8511\n",
            "Epoch 99/100\n",
            "14/14 [==============================] - 0s 7ms/step - loss: 0.2955 - accuracy: 0.9450 - val_loss: 0.5606 - val_accuracy: 0.8511\n",
            "Epoch 100/100\n",
            "14/14 [==============================] - 0s 6ms/step - loss: 0.2577 - accuracy: 0.9358 - val_loss: 0.5746 - val_accuracy: 0.8085\n"
          ]
        }
      ]
    },
    {
      "cell_type": "code",
      "source": [
        "epochs = np.arange(0,len(H.history['loss']))\n",
        "\n",
        "plt.plot(epochs,H.history['loss'],label='train_loss',c='red')\n",
        "plt.plot(epochs,H.history['val_loss'],label='validation_loss')\n",
        "plt.legend()\n",
        "plt.title(\"training vs validation loss\")"
      ],
      "metadata": {
        "colab": {
          "base_uri": "https://localhost:8080/",
          "height": 299
        },
        "id": "J4Djimygo_Kh",
        "outputId": "3005df43-b7df-4a51-c120-2bc169b08239"
      },
      "execution_count": 39,
      "outputs": [
        {
          "output_type": "execute_result",
          "data": {
            "text/plain": [
              "Text(0.5, 1.0, 'training vs validation loss')"
            ]
          },
          "metadata": {},
          "execution_count": 39
        },
        {
          "output_type": "display_data",
          "data": {
            "text/plain": [
              "<Figure size 432x288 with 1 Axes>"
            ],
            "image/png": "[encoded data removed]"
          },
          "metadata": {
            "needs_background": "light"
          }
        }
      ]
    },
    {
      "cell_type": "markdown",
      "source": [
        "Early stopping"
      ],
      "metadata": {
        "id": "lnMAJy68tRMd"
      }
    },
    {
      "cell_type": "code",
      "source": [
        "\n",
        "model = keras.Sequential([\n",
        "    keras.layers.Dense(80, input_dim=60, activation='relu',kernel_regularizer=tf.keras.regularizers.l2(0.1)),\n",
        "    \n",
        "    keras.layers.Dense(30, activation='relu'),\n",
        "    \n",
        "    keras.layers.Dense(15, activation='relu'),\n",
        "    keras.layers.Dropout(0.1),\n",
        "    keras.layers.Dense(1, activation='sigmoid')\n",
        "])\n",
        "\n",
        "model.compile(loss='binary_crossentropy', optimizer='adam', metrics=['accuracy'])\n",
        "\n",
        "H = model.fit(X_train, y_train, epochs=100, batch_size=8, validation_split=0.3,callbacks=tf.keras.callbacks.EarlyStopping(monitor='val_accuracy',verbose=1, patience=5)\n",
        ")\n"
      ],
      "metadata": {
        "colab": {
          "base_uri": "https://localhost:8080/"
        },
        "id": "clR6DxLJt2Tp",
        "outputId": "078e2789-e6a7-4b4e-ff4d-5590ee16f203"
      },
      "execution_count": 40,
      "outputs": [
        {
          "output_type": "stream",
          "name": "stdout",
          "text": [
            "Epoch 1/100\n",
            "14/14 [==============================] - 1s 21ms/step - loss: 6.9772 - accuracy: 0.5046 - val_loss: 6.2917 - val_accuracy: 0.4894\n",
            "Epoch 2/100\n",
            "14/14 [==============================] - 0s 8ms/step - loss: 5.7845 - accuracy: 0.5046 - val_loss: 5.2099 - val_accuracy: 0.5319\n",
            "Epoch 3/100\n",
            "14/14 [==============================] - 0s 5ms/step - loss: 4.7880 - accuracy: 0.5505 - val_loss: 4.3146 - val_accuracy: 0.5319\n",
            "Epoch 4/100\n",
            "14/14 [==============================] - 0s 7ms/step - loss: 3.9656 - accuracy: 0.5872 - val_loss: 3.5846 - val_accuracy: 0.5319\n",
            "Epoch 5/100\n",
            "14/14 [==============================] - 0s 7ms/step - loss: 3.2975 - accuracy: 0.5780 - val_loss: 2.9909 - val_accuracy: 0.5319\n",
            "Epoch 6/100\n",
            "14/14 [==============================] - 0s 5ms/step - loss: 2.7594 - accuracy: 0.5321 - val_loss: 2.5104 - val_accuracy: 0.5532\n",
            "Epoch 7/100\n",
            "14/14 [==============================] - 0s 5ms/step - loss: 2.3199 - accuracy: 0.6055 - val_loss: 2.1236 - val_accuracy: 0.5957\n",
            "Epoch 8/100\n",
            "14/14 [==============================] - 0s 6ms/step - loss: 1.9669 - accuracy: 0.6239 - val_loss: 1.8110 - val_accuracy: 0.5745\n",
            "Epoch 9/100\n",
            "14/14 [==============================] - 0s 6ms/step - loss: 1.6867 - accuracy: 0.6330 - val_loss: 1.5631 - val_accuracy: 0.5957\n",
            "Epoch 10/100\n",
            "14/14 [==============================] - 0s 5ms/step - loss: 1.4642 - accuracy: 0.5780 - val_loss: 1.3646 - val_accuracy: 0.5745\n",
            "Epoch 11/100\n",
            "14/14 [==============================] - 0s 6ms/step - loss: 1.2942 - accuracy: 0.6055 - val_loss: 1.2078 - val_accuracy: 0.6170\n",
            "Epoch 12/100\n",
            "14/14 [==============================] - 0s 5ms/step - loss: 1.1585 - accuracy: 0.6055 - val_loss: 1.0884 - val_accuracy: 0.5532\n",
            "Epoch 13/100\n",
            "14/14 [==============================] - 0s 6ms/step - loss: 1.0410 - accuracy: 0.6514 - val_loss: 0.9920 - val_accuracy: 0.7447\n",
            "Epoch 14/100\n",
            "14/14 [==============================] - 0s 6ms/step - loss: 0.9388 - accuracy: 0.6330 - val_loss: 0.9061 - val_accuracy: 0.5745\n",
            "Epoch 15/100\n",
            "14/14 [==============================] - 0s 6ms/step - loss: 0.8670 - accuracy: 0.6881 - val_loss: 0.8400 - val_accuracy: 0.5957\n",
            "Epoch 16/100\n",
            "14/14 [==============================] - 0s 6ms/step - loss: 0.8100 - accuracy: 0.7064 - val_loss: 0.7889 - val_accuracy: 0.6170\n",
            "Epoch 17/100\n",
            "14/14 [==============================] - 0s 7ms/step - loss: 0.7519 - accuracy: 0.7156 - val_loss: 0.7421 - val_accuracy: 0.7234\n",
            "Epoch 18/100\n",
            "14/14 [==============================] - 0s 7ms/step - loss: 0.7297 - accuracy: 0.7339 - val_loss: 0.7123 - val_accuracy: 0.6809\n",
            "Epoch 18: early stopping\n"
          ]
        }
      ]
    },
    {
      "cell_type": "code",
      "source": [
        "epochs = np.arange(0,len(H.history['loss']))\n",
        "\n",
        "plt.plot(epochs,H.history['loss'],label='train_loss',c='red')\n",
        "plt.plot(epochs,H.history['val_loss'],label='validation_loss')\n",
        "plt.legend()\n",
        "plt.title(\"training vs validation loss\")"
      ],
      "metadata": {
        "colab": {
          "base_uri": "https://localhost:8080/",
          "height": 299
        },
        "id": "X7q42Er2t2Io",
        "outputId": "a96ad0b6-ef8d-44aa-fb6b-c5dc8d59d97a"
      },
      "execution_count": 41,
      "outputs": [
        {
          "output_type": "execute_result",
          "data": {
            "text/plain": [
              "Text(0.5, 1.0, 'training vs validation loss')"
            ]
          },
          "metadata": {},
          "execution_count": 41
        },
        {
          "output_type": "display_data",
          "data": {
            "text/plain": [
              "<Figure size 432x288 with 1 Axes>"
            ],
            "image/png": "[encoded data removed]"
          },
          "metadata": {
            "needs_background": "light"
          }
        }
      ]
    },
    {
      "cell_type": "code",
      "source": [
        "\n",
        "from tensorflow.keras.callbacks import ModelCheckpoint\n",
        "\n",
        "model = keras.Sequential([\n",
        "keras.layers.Dense(80, input_dim=60, activation='relu'),\n",
        "keras.layers.Dense(30, activation='relu'),\n",
        "keras.layers.Dense(15, activation='relu'),\n",
        "keras.layers.Dense(1, activation='sigmoid')\n",
        "])\n",
        "\n",
        "model.compile(loss='binary_crossentropy', optimizer='adam', metrics=['accuracy'])\n",
        "\n",
        "checkpoint = ModelCheckpoint('SOMETHINGELSE', monitor=\"val_loss\", mode=\"min\",\n",
        "\tsave_best_only=True, verbose=1),\n",
        "earlystopping = tf.keras.callbacks.EarlyStopping(monitor='val_loss',verbose=1, patience=5)\n",
        "callbacks = [checkpoint,earlystopping]\n",
        "\n",
        "\n",
        "H = model.fit(X_train, y_train, epochs=100, batch_size=8, validation_split=0.3,callbacks=callbacks) #To discover the training epoch on which training was stopped, the “verbose” argument can be set to 1. Once stopped, the callback will print the epoch number., Add \"patience\" to wait for sometime before stopping after the best accuracy or val_loss has been found.\n"
      ],
      "metadata": {
        "colab": {
          "base_uri": "https://localhost:8080/"
        },
        "id": "15iLXa16t1_e",
        "outputId": "bdbcb677-536a-4fe5-c67a-55920c909574"
      },
      "execution_count": 42,
      "outputs": [
        {
          "output_type": "stream",
          "name": "stdout",
          "text": [
            "Epoch 1/100\n",
            "11/14 [======================>.......] - ETA: 0s - loss: 0.6900 - accuracy: 0.5000\n",
            "Epoch 1: val_loss improved from inf to 0.67357, saving model to SOMETHINGELSE\n",
            "14/14 [==============================] - 3s 175ms/step - loss: 0.6869 - accuracy: 0.5321 - val_loss: 0.6736 - val_accuracy: 0.6170\n",
            "Epoch 2/100\n",
            " 1/14 [=>............................] - ETA: 0s - loss: 0.6798 - accuracy: 0.5000\n",
            "Epoch 2: val_loss improved from 0.67357 to 0.64860, saving model to SOMETHINGELSE\n",
            "14/14 [==============================] - 1s 75ms/step - loss: 0.6607 - accuracy: 0.6055 - val_loss: 0.6486 - val_accuracy: 0.6809\n",
            "Epoch 3/100\n",
            " 1/14 [=>............................] - ETA: 0s - loss: 0.7158 - accuracy: 0.3750\n",
            "Epoch 3: val_loss improved from 0.64860 to 0.62345, saving model to SOMETHINGELSE\n",
            "14/14 [==============================] - 1s 70ms/step - loss: 0.6334 - accuracy: 0.7156 - val_loss: 0.6235 - val_accuracy: 0.7234\n",
            "Epoch 4/100\n",
            " 1/14 [=>............................] - ETA: 0s - loss: 0.6275 - accuracy: 0.6250\n",
            "Epoch 4: val_loss improved from 0.62345 to 0.59168, saving model to SOMETHINGELSE\n",
            "14/14 [==============================] - 1s 98ms/step - loss: 0.6066 - accuracy: 0.7339 - val_loss: 0.5917 - val_accuracy: 0.7660\n",
            "Epoch 5/100\n",
            "10/14 [====================>.........] - ETA: 0s - loss: 0.5734 - accuracy: 0.8000\n",
            "Epoch 5: val_loss improved from 0.59168 to 0.56240, saving model to SOMETHINGELSE\n",
            "14/14 [==============================] - 2s 139ms/step - loss: 0.5846 - accuracy: 0.7706 - val_loss: 0.5624 - val_accuracy: 0.8085\n",
            "Epoch 6/100\n",
            "13/14 [==========================>...] - ETA: 0s - loss: 0.5547 - accuracy: 0.7692\n",
            "Epoch 6: val_loss improved from 0.56240 to 0.53627, saving model to SOMETHINGELSE\n",
            "14/14 [==============================] - 3s 248ms/step - loss: 0.5516 - accuracy: 0.7706 - val_loss: 0.5363 - val_accuracy: 0.7872\n",
            "Epoch 7/100\n",
            "13/14 [==========================>...] - ETA: 0s - loss: 0.5303 - accuracy: 0.7981\n",
            "Epoch 7: val_loss improved from 0.53627 to 0.50632, saving model to SOMETHINGELSE\n",
            "14/14 [==============================] - 2s 122ms/step - loss: 0.5286 - accuracy: 0.8073 - val_loss: 0.5063 - val_accuracy: 0.8511\n",
            "Epoch 8/100\n",
            "14/14 [==============================] - ETA: 0s - loss: 0.4945 - accuracy: 0.8165\n",
            "Epoch 8: val_loss improved from 0.50632 to 0.48584, saving model to SOMETHINGELSE\n",
            "14/14 [==============================] - 1s 70ms/step - loss: 0.4945 - accuracy: 0.8165 - val_loss: 0.4858 - val_accuracy: 0.8298\n",
            "Epoch 9/100\n",
            " 1/14 [=>............................] - ETA: 0s - loss: 0.5684 - accuracy: 0.7500\n",
            "Epoch 9: val_loss improved from 0.48584 to 0.46483, saving model to SOMETHINGELSE\n",
            "14/14 [==============================] - 1s 70ms/step - loss: 0.4771 - accuracy: 0.8165 - val_loss: 0.4648 - val_accuracy: 0.8085\n",
            "Epoch 10/100\n",
            " 1/14 [=>............................] - ETA: 0s - loss: 0.4390 - accuracy: 0.8750\n",
            "Epoch 10: val_loss improved from 0.46483 to 0.45511, saving model to SOMETHINGELSE\n",
            "14/14 [==============================] - 1s 70ms/step - loss: 0.4543 - accuracy: 0.8349 - val_loss: 0.4551 - val_accuracy: 0.8298\n",
            "Epoch 11/100\n",
            " 1/14 [=>............................] - ETA: 0s - loss: 0.2980 - accuracy: 1.0000\n",
            "Epoch 11: val_loss did not improve from 0.45511\n",
            "14/14 [==============================] - 0s 6ms/step - loss: 0.4261 - accuracy: 0.8624 - val_loss: 0.4659 - val_accuracy: 0.8298\n",
            "Epoch 12/100\n",
            " 1/14 [=>............................] - ETA: 0s - loss: 0.3136 - accuracy: 0.8750\n",
            "Epoch 12: val_loss improved from 0.45511 to 0.44251, saving model to SOMETHINGELSE\n",
            "14/14 [==============================] - 1s 69ms/step - loss: 0.4020 - accuracy: 0.8532 - val_loss: 0.4425 - val_accuracy: 0.8085\n",
            "Epoch 13/100\n",
            " 1/14 [=>............................] - ETA: 0s - loss: 0.7087 - accuracy: 0.6250\n",
            "Epoch 13: val_loss improved from 0.44251 to 0.43264, saving model to SOMETHINGELSE\n",
            "14/14 [==============================] - 1s 71ms/step - loss: 0.3858 - accuracy: 0.8349 - val_loss: 0.4326 - val_accuracy: 0.8511\n",
            "Epoch 14/100\n",
            " 1/14 [=>............................] - ETA: 0s - loss: 0.6071 - accuracy: 0.6250\n",
            "Epoch 14: val_loss did not improve from 0.43264\n",
            "14/14 [==============================] - 0s 6ms/step - loss: 0.3603 - accuracy: 0.8807 - val_loss: 0.4478 - val_accuracy: 0.8298\n",
            "Epoch 15/100\n",
            " 1/14 [=>............................] - ETA: 0s - loss: 0.3282 - accuracy: 0.8750\n",
            "Epoch 15: val_loss did not improve from 0.43264\n",
            "14/14 [==============================] - 0s 6ms/step - loss: 0.3390 - accuracy: 0.8899 - val_loss: 0.4812 - val_accuracy: 0.8298\n",
            "Epoch 16/100\n",
            " 1/14 [=>............................] - ETA: 0s - loss: 0.2554 - accuracy: 0.8750\n",
            "Epoch 16: val_loss did not improve from 0.43264\n",
            "14/14 [==============================] - 0s 6ms/step - loss: 0.3315 - accuracy: 0.8349 - val_loss: 0.4392 - val_accuracy: 0.8085\n",
            "Epoch 17/100\n",
            "14/14 [==============================] - ETA: 0s - loss: 0.3409 - accuracy: 0.8440\n",
            "Epoch 17: val_loss did not improve from 0.43264\n",
            "14/14 [==============================] - 0s 8ms/step - loss: 0.3409 - accuracy: 0.8440 - val_loss: 0.4403 - val_accuracy: 0.8298\n",
            "Epoch 18/100\n",
            " 1/14 [=>............................] - ETA: 0s - loss: 0.4250 - accuracy: 0.8750\n",
            "Epoch 18: val_loss did not improve from 0.43264\n",
            "14/14 [==============================] - 0s 7ms/step - loss: 0.3070 - accuracy: 0.8899 - val_loss: 0.4579 - val_accuracy: 0.8298\n",
            "Epoch 18: early stopping\n"
          ]
        }
      ]
    },
    {
      "cell_type": "code",
      "source": [
        "epochs = np.arange(0,len(H.history['loss']))\n",
        "\n",
        "plt.plot(epochs,H.history['loss'],label='train_loss',c='red')\n",
        "plt.plot(epochs,H.history['val_loss'],label='validation_loss')\n",
        "plt.legend()\n",
        "plt.title(\"training vs validation loss\")"
      ],
      "metadata": {
        "colab": {
          "base_uri": "https://localhost:8080/",
          "height": 299
        },
        "id": "E-db735kt1fU",
        "outputId": "dedc263e-e630-40bb-a0c5-12f117b210d9"
      },
      "execution_count": 43,
      "outputs": [
        {
          "output_type": "execute_result",
          "data": {
            "text/plain": [
              "Text(0.5, 1.0, 'training vs validation loss')"
            ]
          },
          "metadata": {},
          "execution_count": 43
        },
        {
          "output_type": "display_data",
          "data": {
            "text/plain": [
              "<Figure size 432x288 with 1 Axes>"
            ],
            "image/png": "[encoded data removed]"
          },
          "metadata": {
            "needs_background": "light"
          }
        }
      ]
    },
    {
      "cell_type": "code",
      "source": [
        ""
      ],
      "metadata": {
        "id": "dFZzGOEOo_BF"
      },
      "execution_count": null,
      "outputs": []
    },
    {
      "cell_type": "code",
      "source": [
        ""
      ],
      "metadata": {
        "id": "etbT_soOO0Bw"
      },
      "execution_count": null,
      "outputs": []
    },
    {
      "cell_type": "code",
      "source": [
        ""
      ],
      "metadata": {
        "id": "-Qy7B9YHOziS"
      },
      "execution_count": null,
      "outputs": []
    },
    {
      "cell_type": "code",
      "source": [
        ""
      ],
      "metadata": {
        "id": "LB21LPK1Oa2M"
      },
      "execution_count": null,
      "outputs": []
    },
    {
      "cell_type": "code",
      "source": [
        ""
      ],
      "metadata": {
        "id": "o3JdxgZdOaoY"
      },
      "execution_count": null,
      "outputs": []
    },
    {
      "cell_type": "code",
      "source": [
        ""
      ],
      "metadata": {
        "id": "40p_HKsDOaKt"
      },
      "execution_count": null,
      "outputs": []
    },
    {
      "cell_type": "code",
      "source": [
        ""
      ],
      "metadata": {
        "id": "pjC7JGUSOZuk"
      },
      "execution_count": null,
      "outputs": []
    }
  ]
}
